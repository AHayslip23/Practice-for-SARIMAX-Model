{
 "cells": [
  {
   "cell_type": "code",
   "execution_count": 2,
   "id": "7c33c0db",
   "metadata": {},
   "outputs": [],
   "source": [
    "import pandas as pd \n",
    "import numpy as np \n",
    "import matplotlib.pyplot as plt \n",
    "import seaborn as sns"
   ]
  },
  {
   "cell_type": "code",
   "execution_count": 3,
   "id": "23ee5a36",
   "metadata": {},
   "outputs": [],
   "source": [
    "df = pd.read_csv(\"Delhi Climate Data 2013.csv\", index_col=\"date\", parse_dates=True)  "
   ]
  },
  {
   "cell_type": "code",
   "execution_count": 4,
   "id": "508d2eaa",
   "metadata": {},
   "outputs": [
    {
     "data": {
      "text/html": [
       "<div>\n",
       "<style scoped>\n",
       "    .dataframe tbody tr th:only-of-type {\n",
       "        vertical-align: middle;\n",
       "    }\n",
       "\n",
       "    .dataframe tbody tr th {\n",
       "        vertical-align: top;\n",
       "    }\n",
       "\n",
       "    .dataframe thead th {\n",
       "        text-align: right;\n",
       "    }\n",
       "</style>\n",
       "<table border=\"1\" class=\"dataframe\">\n",
       "  <thead>\n",
       "    <tr style=\"text-align: right;\">\n",
       "      <th></th>\n",
       "      <th>meantemp</th>\n",
       "      <th>humidity</th>\n",
       "      <th>wind_speed</th>\n",
       "      <th>meanpressure</th>\n",
       "    </tr>\n",
       "    <tr>\n",
       "      <th>date</th>\n",
       "      <th></th>\n",
       "      <th></th>\n",
       "      <th></th>\n",
       "      <th></th>\n",
       "    </tr>\n",
       "  </thead>\n",
       "  <tbody>\n",
       "    <tr>\n",
       "      <th>2013-01-01</th>\n",
       "      <td>10.000000</td>\n",
       "      <td>84.500000</td>\n",
       "      <td>0.000000</td>\n",
       "      <td>1015.666667</td>\n",
       "    </tr>\n",
       "    <tr>\n",
       "      <th>2013-01-02</th>\n",
       "      <td>7.400000</td>\n",
       "      <td>92.000000</td>\n",
       "      <td>2.980000</td>\n",
       "      <td>1017.800000</td>\n",
       "    </tr>\n",
       "    <tr>\n",
       "      <th>2013-01-03</th>\n",
       "      <td>7.166667</td>\n",
       "      <td>87.000000</td>\n",
       "      <td>4.633333</td>\n",
       "      <td>1018.666667</td>\n",
       "    </tr>\n",
       "    <tr>\n",
       "      <th>2013-01-04</th>\n",
       "      <td>8.666667</td>\n",
       "      <td>71.333333</td>\n",
       "      <td>1.233333</td>\n",
       "      <td>1017.166667</td>\n",
       "    </tr>\n",
       "    <tr>\n",
       "      <th>2013-01-05</th>\n",
       "      <td>6.000000</td>\n",
       "      <td>86.833333</td>\n",
       "      <td>3.700000</td>\n",
       "      <td>1016.500000</td>\n",
       "    </tr>\n",
       "    <tr>\n",
       "      <th>...</th>\n",
       "      <td>...</td>\n",
       "      <td>...</td>\n",
       "      <td>...</td>\n",
       "      <td>...</td>\n",
       "    </tr>\n",
       "    <tr>\n",
       "      <th>2016-12-28</th>\n",
       "      <td>17.217391</td>\n",
       "      <td>68.043478</td>\n",
       "      <td>3.547826</td>\n",
       "      <td>1015.565217</td>\n",
       "    </tr>\n",
       "    <tr>\n",
       "      <th>2016-12-29</th>\n",
       "      <td>15.238095</td>\n",
       "      <td>87.857143</td>\n",
       "      <td>6.000000</td>\n",
       "      <td>1016.904762</td>\n",
       "    </tr>\n",
       "    <tr>\n",
       "      <th>2016-12-30</th>\n",
       "      <td>14.095238</td>\n",
       "      <td>89.666667</td>\n",
       "      <td>6.266667</td>\n",
       "      <td>1017.904762</td>\n",
       "    </tr>\n",
       "    <tr>\n",
       "      <th>2016-12-31</th>\n",
       "      <td>15.052632</td>\n",
       "      <td>87.000000</td>\n",
       "      <td>7.325000</td>\n",
       "      <td>1016.100000</td>\n",
       "    </tr>\n",
       "    <tr>\n",
       "      <th>2017-01-01</th>\n",
       "      <td>10.000000</td>\n",
       "      <td>100.000000</td>\n",
       "      <td>0.000000</td>\n",
       "      <td>1016.000000</td>\n",
       "    </tr>\n",
       "  </tbody>\n",
       "</table>\n",
       "<p>1462 rows × 4 columns</p>\n",
       "</div>"
      ],
      "text/plain": [
       "             meantemp    humidity  wind_speed  meanpressure\n",
       "date                                                       \n",
       "2013-01-01  10.000000   84.500000    0.000000   1015.666667\n",
       "2013-01-02   7.400000   92.000000    2.980000   1017.800000\n",
       "2013-01-03   7.166667   87.000000    4.633333   1018.666667\n",
       "2013-01-04   8.666667   71.333333    1.233333   1017.166667\n",
       "2013-01-05   6.000000   86.833333    3.700000   1016.500000\n",
       "...               ...         ...         ...           ...\n",
       "2016-12-28  17.217391   68.043478    3.547826   1015.565217\n",
       "2016-12-29  15.238095   87.857143    6.000000   1016.904762\n",
       "2016-12-30  14.095238   89.666667    6.266667   1017.904762\n",
       "2016-12-31  15.052632   87.000000    7.325000   1016.100000\n",
       "2017-01-01  10.000000  100.000000    0.000000   1016.000000\n",
       "\n",
       "[1462 rows x 4 columns]"
      ]
     },
     "execution_count": 4,
     "metadata": {},
     "output_type": "execute_result"
    }
   ],
   "source": [
    "df"
   ]
  },
  {
   "cell_type": "code",
   "execution_count": 5,
   "id": "96f5853a",
   "metadata": {},
   "outputs": [],
   "source": [
    "df.index.freq = \"D\" "
   ]
  },
  {
   "cell_type": "code",
   "execution_count": 6,
   "id": "b5160456",
   "metadata": {},
   "outputs": [],
   "source": [
    "df = df.dropna()"
   ]
  },
  {
   "cell_type": "code",
   "execution_count": 7,
   "id": "872fe64b",
   "metadata": {},
   "outputs": [
    {
     "data": {
      "text/html": [
       "<div>\n",
       "<style scoped>\n",
       "    .dataframe tbody tr th:only-of-type {\n",
       "        vertical-align: middle;\n",
       "    }\n",
       "\n",
       "    .dataframe tbody tr th {\n",
       "        vertical-align: top;\n",
       "    }\n",
       "\n",
       "    .dataframe thead th {\n",
       "        text-align: right;\n",
       "    }\n",
       "</style>\n",
       "<table border=\"1\" class=\"dataframe\">\n",
       "  <thead>\n",
       "    <tr style=\"text-align: right;\">\n",
       "      <th></th>\n",
       "      <th>meantemp</th>\n",
       "      <th>humidity</th>\n",
       "      <th>wind_speed</th>\n",
       "      <th>meanpressure</th>\n",
       "    </tr>\n",
       "    <tr>\n",
       "      <th>date</th>\n",
       "      <th></th>\n",
       "      <th></th>\n",
       "      <th></th>\n",
       "      <th></th>\n",
       "    </tr>\n",
       "  </thead>\n",
       "  <tbody>\n",
       "    <tr>\n",
       "      <th>2013-01-01</th>\n",
       "      <td>10.000000</td>\n",
       "      <td>84.500000</td>\n",
       "      <td>0.000000</td>\n",
       "      <td>1015.666667</td>\n",
       "    </tr>\n",
       "    <tr>\n",
       "      <th>2013-01-02</th>\n",
       "      <td>7.400000</td>\n",
       "      <td>92.000000</td>\n",
       "      <td>2.980000</td>\n",
       "      <td>1017.800000</td>\n",
       "    </tr>\n",
       "    <tr>\n",
       "      <th>2013-01-03</th>\n",
       "      <td>7.166667</td>\n",
       "      <td>87.000000</td>\n",
       "      <td>4.633333</td>\n",
       "      <td>1018.666667</td>\n",
       "    </tr>\n",
       "    <tr>\n",
       "      <th>2013-01-04</th>\n",
       "      <td>8.666667</td>\n",
       "      <td>71.333333</td>\n",
       "      <td>1.233333</td>\n",
       "      <td>1017.166667</td>\n",
       "    </tr>\n",
       "    <tr>\n",
       "      <th>2013-01-05</th>\n",
       "      <td>6.000000</td>\n",
       "      <td>86.833333</td>\n",
       "      <td>3.700000</td>\n",
       "      <td>1016.500000</td>\n",
       "    </tr>\n",
       "    <tr>\n",
       "      <th>...</th>\n",
       "      <td>...</td>\n",
       "      <td>...</td>\n",
       "      <td>...</td>\n",
       "      <td>...</td>\n",
       "    </tr>\n",
       "    <tr>\n",
       "      <th>2016-12-28</th>\n",
       "      <td>17.217391</td>\n",
       "      <td>68.043478</td>\n",
       "      <td>3.547826</td>\n",
       "      <td>1015.565217</td>\n",
       "    </tr>\n",
       "    <tr>\n",
       "      <th>2016-12-29</th>\n",
       "      <td>15.238095</td>\n",
       "      <td>87.857143</td>\n",
       "      <td>6.000000</td>\n",
       "      <td>1016.904762</td>\n",
       "    </tr>\n",
       "    <tr>\n",
       "      <th>2016-12-30</th>\n",
       "      <td>14.095238</td>\n",
       "      <td>89.666667</td>\n",
       "      <td>6.266667</td>\n",
       "      <td>1017.904762</td>\n",
       "    </tr>\n",
       "    <tr>\n",
       "      <th>2016-12-31</th>\n",
       "      <td>15.052632</td>\n",
       "      <td>87.000000</td>\n",
       "      <td>7.325000</td>\n",
       "      <td>1016.100000</td>\n",
       "    </tr>\n",
       "    <tr>\n",
       "      <th>2017-01-01</th>\n",
       "      <td>10.000000</td>\n",
       "      <td>100.000000</td>\n",
       "      <td>0.000000</td>\n",
       "      <td>1016.000000</td>\n",
       "    </tr>\n",
       "  </tbody>\n",
       "</table>\n",
       "<p>1462 rows × 4 columns</p>\n",
       "</div>"
      ],
      "text/plain": [
       "             meantemp    humidity  wind_speed  meanpressure\n",
       "date                                                       \n",
       "2013-01-01  10.000000   84.500000    0.000000   1015.666667\n",
       "2013-01-02   7.400000   92.000000    2.980000   1017.800000\n",
       "2013-01-03   7.166667   87.000000    4.633333   1018.666667\n",
       "2013-01-04   8.666667   71.333333    1.233333   1017.166667\n",
       "2013-01-05   6.000000   86.833333    3.700000   1016.500000\n",
       "...               ...         ...         ...           ...\n",
       "2016-12-28  17.217391   68.043478    3.547826   1015.565217\n",
       "2016-12-29  15.238095   87.857143    6.000000   1016.904762\n",
       "2016-12-30  14.095238   89.666667    6.266667   1017.904762\n",
       "2016-12-31  15.052632   87.000000    7.325000   1016.100000\n",
       "2017-01-01  10.000000  100.000000    0.000000   1016.000000\n",
       "\n",
       "[1462 rows x 4 columns]"
      ]
     },
     "execution_count": 7,
     "metadata": {},
     "output_type": "execute_result"
    }
   ],
   "source": [
    "df"
   ]
  },
  {
   "cell_type": "code",
   "execution_count": 8,
   "id": "e870c059",
   "metadata": {},
   "outputs": [
    {
     "data": {
      "text/plain": [
       "<AxesSubplot:>"
      ]
     },
     "execution_count": 8,
     "metadata": {},
     "output_type": "execute_result"
    },
    {
     "data": {
      "image/png": "[encoded data removed]",
      "text/plain": [
       "<Figure size 432x288 with 2 Axes>"
      ]
     },
     "metadata": {
      "needs_background": "light"
     },
     "output_type": "display_data"
    }
   ],
   "source": [
    "sns.heatmap(df.corr()) "
   ]
  },
  {
   "cell_type": "code",
   "execution_count": 9,
   "id": "8d19e4b3",
   "metadata": {},
   "outputs": [],
   "source": [
    "train = df.iloc[:1097, 0]\n",
    "test = df.iloc[1097:, 0] "
   ]
  },
  {
   "cell_type": "code",
   "execution_count": 10,
   "id": "3c7e1b25",
   "metadata": {},
   "outputs": [
    {
     "data": {
      "text/plain": [
       "date\n",
       "2013-01-01    10.000000\n",
       "2013-01-02     7.400000\n",
       "2013-01-03     7.166667\n",
       "2013-01-04     8.666667\n",
       "2013-01-05     6.000000\n",
       "                ...    \n",
       "2015-12-29    16.375000\n",
       "2015-12-30    15.500000\n",
       "2015-12-31    15.000000\n",
       "2016-01-01    14.714286\n",
       "2016-01-02    14.000000\n",
       "Freq: D, Name: meantemp, Length: 1097, dtype: float64"
      ]
     },
     "execution_count": 10,
     "metadata": {},
     "output_type": "execute_result"
    }
   ],
   "source": [
    "train"
   ]
  },
  {
   "cell_type": "code",
   "execution_count": 11,
   "id": "ae5dca49",
   "metadata": {},
   "outputs": [
    {
     "data": {
      "text/plain": [
       "date\n",
       "2016-01-03    14.375000\n",
       "2016-01-04    15.750000\n",
       "2016-01-05    15.833333\n",
       "2016-01-06    17.375000\n",
       "2016-01-07    17.125000\n",
       "                ...    \n",
       "2016-12-28    17.217391\n",
       "2016-12-29    15.238095\n",
       "2016-12-30    14.095238\n",
       "2016-12-31    15.052632\n",
       "2017-01-01    10.000000\n",
       "Freq: D, Name: meantemp, Length: 365, dtype: float64"
      ]
     },
     "execution_count": 11,
     "metadata": {},
     "output_type": "execute_result"
    }
   ],
   "source": [
    "test"
   ]
  },
  {
   "cell_type": "code",
   "execution_count": 12,
   "id": "04a5fd71",
   "metadata": {},
   "outputs": [],
   "source": [
    "exo = df.iloc[:, 1:4] "
   ]
  },
  {
   "cell_type": "code",
   "execution_count": 13,
   "id": "cc1ebc9d",
   "metadata": {},
   "outputs": [
    {
     "data": {
      "text/html": [
       "<div>\n",
       "<style scoped>\n",
       "    .dataframe tbody tr th:only-of-type {\n",
       "        vertical-align: middle;\n",
       "    }\n",
       "\n",
       "    .dataframe tbody tr th {\n",
       "        vertical-align: top;\n",
       "    }\n",
       "\n",
       "    .dataframe thead th {\n",
       "        text-align: right;\n",
       "    }\n",
       "</style>\n",
       "<table border=\"1\" class=\"dataframe\">\n",
       "  <thead>\n",
       "    <tr style=\"text-align: right;\">\n",
       "      <th></th>\n",
       "      <th>humidity</th>\n",
       "      <th>wind_speed</th>\n",
       "      <th>meanpressure</th>\n",
       "    </tr>\n",
       "    <tr>\n",
       "      <th>date</th>\n",
       "      <th></th>\n",
       "      <th></th>\n",
       "      <th></th>\n",
       "    </tr>\n",
       "  </thead>\n",
       "  <tbody>\n",
       "    <tr>\n",
       "      <th>2013-01-01</th>\n",
       "      <td>84.500000</td>\n",
       "      <td>0.000000</td>\n",
       "      <td>1015.666667</td>\n",
       "    </tr>\n",
       "    <tr>\n",
       "      <th>2013-01-02</th>\n",
       "      <td>92.000000</td>\n",
       "      <td>2.980000</td>\n",
       "      <td>1017.800000</td>\n",
       "    </tr>\n",
       "    <tr>\n",
       "      <th>2013-01-03</th>\n",
       "      <td>87.000000</td>\n",
       "      <td>4.633333</td>\n",
       "      <td>1018.666667</td>\n",
       "    </tr>\n",
       "    <tr>\n",
       "      <th>2013-01-04</th>\n",
       "      <td>71.333333</td>\n",
       "      <td>1.233333</td>\n",
       "      <td>1017.166667</td>\n",
       "    </tr>\n",
       "    <tr>\n",
       "      <th>2013-01-05</th>\n",
       "      <td>86.833333</td>\n",
       "      <td>3.700000</td>\n",
       "      <td>1016.500000</td>\n",
       "    </tr>\n",
       "    <tr>\n",
       "      <th>...</th>\n",
       "      <td>...</td>\n",
       "      <td>...</td>\n",
       "      <td>...</td>\n",
       "    </tr>\n",
       "    <tr>\n",
       "      <th>2016-12-28</th>\n",
       "      <td>68.043478</td>\n",
       "      <td>3.547826</td>\n",
       "      <td>1015.565217</td>\n",
       "    </tr>\n",
       "    <tr>\n",
       "      <th>2016-12-29</th>\n",
       "      <td>87.857143</td>\n",
       "      <td>6.000000</td>\n",
       "      <td>1016.904762</td>\n",
       "    </tr>\n",
       "    <tr>\n",
       "      <th>2016-12-30</th>\n",
       "      <td>89.666667</td>\n",
       "      <td>6.266667</td>\n",
       "      <td>1017.904762</td>\n",
       "    </tr>\n",
       "    <tr>\n",
       "      <th>2016-12-31</th>\n",
       "      <td>87.000000</td>\n",
       "      <td>7.325000</td>\n",
       "      <td>1016.100000</td>\n",
       "    </tr>\n",
       "    <tr>\n",
       "      <th>2017-01-01</th>\n",
       "      <td>100.000000</td>\n",
       "      <td>0.000000</td>\n",
       "      <td>1016.000000</td>\n",
       "    </tr>\n",
       "  </tbody>\n",
       "</table>\n",
       "<p>1462 rows × 3 columns</p>\n",
       "</div>"
      ],
      "text/plain": [
       "              humidity  wind_speed  meanpressure\n",
       "date                                            \n",
       "2013-01-01   84.500000    0.000000   1015.666667\n",
       "2013-01-02   92.000000    2.980000   1017.800000\n",
       "2013-01-03   87.000000    4.633333   1018.666667\n",
       "2013-01-04   71.333333    1.233333   1017.166667\n",
       "2013-01-05   86.833333    3.700000   1016.500000\n",
       "...                ...         ...           ...\n",
       "2016-12-28   68.043478    3.547826   1015.565217\n",
       "2016-12-29   87.857143    6.000000   1016.904762\n",
       "2016-12-30   89.666667    6.266667   1017.904762\n",
       "2016-12-31   87.000000    7.325000   1016.100000\n",
       "2017-01-01  100.000000    0.000000   1016.000000\n",
       "\n",
       "[1462 rows x 3 columns]"
      ]
     },
     "execution_count": 13,
     "metadata": {},
     "output_type": "execute_result"
    }
   ],
   "source": [
    "exo"
   ]
  },
  {
   "cell_type": "code",
   "execution_count": 14,
   "id": "5f1862d4",
   "metadata": {},
   "outputs": [],
   "source": [
    "exo_train = df.iloc[:1097, 1:4] "
   ]
  },
  {
   "cell_type": "code",
   "execution_count": 15,
   "id": "8532c1de",
   "metadata": {},
   "outputs": [
    {
     "data": {
      "text/html": [
       "<div>\n",
       "<style scoped>\n",
       "    .dataframe tbody tr th:only-of-type {\n",
       "        vertical-align: middle;\n",
       "    }\n",
       "\n",
       "    .dataframe tbody tr th {\n",
       "        vertical-align: top;\n",
       "    }\n",
       "\n",
       "    .dataframe thead th {\n",
       "        text-align: right;\n",
       "    }\n",
       "</style>\n",
       "<table border=\"1\" class=\"dataframe\">\n",
       "  <thead>\n",
       "    <tr style=\"text-align: right;\">\n",
       "      <th></th>\n",
       "      <th>humidity</th>\n",
       "      <th>wind_speed</th>\n",
       "      <th>meanpressure</th>\n",
       "    </tr>\n",
       "    <tr>\n",
       "      <th>date</th>\n",
       "      <th></th>\n",
       "      <th></th>\n",
       "      <th></th>\n",
       "    </tr>\n",
       "  </thead>\n",
       "  <tbody>\n",
       "    <tr>\n",
       "      <th>2013-01-01</th>\n",
       "      <td>84.500000</td>\n",
       "      <td>0.000000</td>\n",
       "      <td>1015.666667</td>\n",
       "    </tr>\n",
       "    <tr>\n",
       "      <th>2013-01-02</th>\n",
       "      <td>92.000000</td>\n",
       "      <td>2.980000</td>\n",
       "      <td>1017.800000</td>\n",
       "    </tr>\n",
       "    <tr>\n",
       "      <th>2013-01-03</th>\n",
       "      <td>87.000000</td>\n",
       "      <td>4.633333</td>\n",
       "      <td>1018.666667</td>\n",
       "    </tr>\n",
       "    <tr>\n",
       "      <th>2013-01-04</th>\n",
       "      <td>71.333333</td>\n",
       "      <td>1.233333</td>\n",
       "      <td>1017.166667</td>\n",
       "    </tr>\n",
       "    <tr>\n",
       "      <th>2013-01-05</th>\n",
       "      <td>86.833333</td>\n",
       "      <td>3.700000</td>\n",
       "      <td>1016.500000</td>\n",
       "    </tr>\n",
       "    <tr>\n",
       "      <th>...</th>\n",
       "      <td>...</td>\n",
       "      <td>...</td>\n",
       "      <td>...</td>\n",
       "    </tr>\n",
       "    <tr>\n",
       "      <th>2015-12-29</th>\n",
       "      <td>65.000000</td>\n",
       "      <td>7.412500</td>\n",
       "      <td>1018.125000</td>\n",
       "    </tr>\n",
       "    <tr>\n",
       "      <th>2015-12-30</th>\n",
       "      <td>71.750000</td>\n",
       "      <td>2.100000</td>\n",
       "      <td>1017.500000</td>\n",
       "    </tr>\n",
       "    <tr>\n",
       "      <th>2015-12-31</th>\n",
       "      <td>71.375000</td>\n",
       "      <td>2.087500</td>\n",
       "      <td>1020.500000</td>\n",
       "    </tr>\n",
       "    <tr>\n",
       "      <th>2016-01-01</th>\n",
       "      <td>72.285714</td>\n",
       "      <td>1.057143</td>\n",
       "      <td>1021.142857</td>\n",
       "    </tr>\n",
       "    <tr>\n",
       "      <th>2016-01-02</th>\n",
       "      <td>75.875000</td>\n",
       "      <td>2.087500</td>\n",
       "      <td>1021.000000</td>\n",
       "    </tr>\n",
       "  </tbody>\n",
       "</table>\n",
       "<p>1097 rows × 3 columns</p>\n",
       "</div>"
      ],
      "text/plain": [
       "             humidity  wind_speed  meanpressure\n",
       "date                                           \n",
       "2013-01-01  84.500000    0.000000   1015.666667\n",
       "2013-01-02  92.000000    2.980000   1017.800000\n",
       "2013-01-03  87.000000    4.633333   1018.666667\n",
       "2013-01-04  71.333333    1.233333   1017.166667\n",
       "2013-01-05  86.833333    3.700000   1016.500000\n",
       "...               ...         ...           ...\n",
       "2015-12-29  65.000000    7.412500   1018.125000\n",
       "2015-12-30  71.750000    2.100000   1017.500000\n",
       "2015-12-31  71.375000    2.087500   1020.500000\n",
       "2016-01-01  72.285714    1.057143   1021.142857\n",
       "2016-01-02  75.875000    2.087500   1021.000000\n",
       "\n",
       "[1097 rows x 3 columns]"
      ]
     },
     "execution_count": 15,
     "metadata": {},
     "output_type": "execute_result"
    }
   ],
   "source": [
    "exo_train"
   ]
  },
  {
   "cell_type": "code",
   "execution_count": 16,
   "id": "e9764951",
   "metadata": {},
   "outputs": [],
   "source": [
    "exo_test = df.iloc[1097:, 1:4] "
   ]
  },
  {
   "cell_type": "code",
   "execution_count": 17,
   "id": "38762357",
   "metadata": {},
   "outputs": [
    {
     "data": {
      "text/html": [
       "<div>\n",
       "<style scoped>\n",
       "    .dataframe tbody tr th:only-of-type {\n",
       "        vertical-align: middle;\n",
       "    }\n",
       "\n",
       "    .dataframe tbody tr th {\n",
       "        vertical-align: top;\n",
       "    }\n",
       "\n",
       "    .dataframe thead th {\n",
       "        text-align: right;\n",
       "    }\n",
       "</style>\n",
       "<table border=\"1\" class=\"dataframe\">\n",
       "  <thead>\n",
       "    <tr style=\"text-align: right;\">\n",
       "      <th></th>\n",
       "      <th>humidity</th>\n",
       "      <th>wind_speed</th>\n",
       "      <th>meanpressure</th>\n",
       "    </tr>\n",
       "    <tr>\n",
       "      <th>date</th>\n",
       "      <th></th>\n",
       "      <th></th>\n",
       "      <th></th>\n",
       "    </tr>\n",
       "  </thead>\n",
       "  <tbody>\n",
       "    <tr>\n",
       "      <th>2016-01-03</th>\n",
       "      <td>74.750000</td>\n",
       "      <td>5.112500</td>\n",
       "      <td>1018.500000</td>\n",
       "    </tr>\n",
       "    <tr>\n",
       "      <th>2016-01-04</th>\n",
       "      <td>77.125000</td>\n",
       "      <td>0.000000</td>\n",
       "      <td>1017.625000</td>\n",
       "    </tr>\n",
       "    <tr>\n",
       "      <th>2016-01-05</th>\n",
       "      <td>88.833333</td>\n",
       "      <td>0.616667</td>\n",
       "      <td>1017.000000</td>\n",
       "    </tr>\n",
       "    <tr>\n",
       "      <th>2016-01-06</th>\n",
       "      <td>81.625000</td>\n",
       "      <td>2.312500</td>\n",
       "      <td>1016.500000</td>\n",
       "    </tr>\n",
       "    <tr>\n",
       "      <th>2016-01-07</th>\n",
       "      <td>87.000000</td>\n",
       "      <td>0.000000</td>\n",
       "      <td>1018.125000</td>\n",
       "    </tr>\n",
       "    <tr>\n",
       "      <th>...</th>\n",
       "      <td>...</td>\n",
       "      <td>...</td>\n",
       "      <td>...</td>\n",
       "    </tr>\n",
       "    <tr>\n",
       "      <th>2016-12-28</th>\n",
       "      <td>68.043478</td>\n",
       "      <td>3.547826</td>\n",
       "      <td>1015.565217</td>\n",
       "    </tr>\n",
       "    <tr>\n",
       "      <th>2016-12-29</th>\n",
       "      <td>87.857143</td>\n",
       "      <td>6.000000</td>\n",
       "      <td>1016.904762</td>\n",
       "    </tr>\n",
       "    <tr>\n",
       "      <th>2016-12-30</th>\n",
       "      <td>89.666667</td>\n",
       "      <td>6.266667</td>\n",
       "      <td>1017.904762</td>\n",
       "    </tr>\n",
       "    <tr>\n",
       "      <th>2016-12-31</th>\n",
       "      <td>87.000000</td>\n",
       "      <td>7.325000</td>\n",
       "      <td>1016.100000</td>\n",
       "    </tr>\n",
       "    <tr>\n",
       "      <th>2017-01-01</th>\n",
       "      <td>100.000000</td>\n",
       "      <td>0.000000</td>\n",
       "      <td>1016.000000</td>\n",
       "    </tr>\n",
       "  </tbody>\n",
       "</table>\n",
       "<p>365 rows × 3 columns</p>\n",
       "</div>"
      ],
      "text/plain": [
       "              humidity  wind_speed  meanpressure\n",
       "date                                            \n",
       "2016-01-03   74.750000    5.112500   1018.500000\n",
       "2016-01-04   77.125000    0.000000   1017.625000\n",
       "2016-01-05   88.833333    0.616667   1017.000000\n",
       "2016-01-06   81.625000    2.312500   1016.500000\n",
       "2016-01-07   87.000000    0.000000   1018.125000\n",
       "...                ...         ...           ...\n",
       "2016-12-28   68.043478    3.547826   1015.565217\n",
       "2016-12-29   87.857143    6.000000   1016.904762\n",
       "2016-12-30   89.666667    6.266667   1017.904762\n",
       "2016-12-31   87.000000    7.325000   1016.100000\n",
       "2017-01-01  100.000000    0.000000   1016.000000\n",
       "\n",
       "[365 rows x 3 columns]"
      ]
     },
     "execution_count": 17,
     "metadata": {},
     "output_type": "execute_result"
    }
   ],
   "source": [
    "exo_test"
   ]
  },
  {
   "cell_type": "code",
   "execution_count": 18,
   "id": "0b667b4a",
   "metadata": {},
   "outputs": [],
   "source": [
    "from statsmodels.tsa.seasonal import seasonal_decompose "
   ]
  },
  {
   "cell_type": "code",
   "execution_count": 19,
   "id": "916fa70d",
   "metadata": {},
   "outputs": [],
   "source": [
    "Decomp_Results = seasonal_decompose(df[\"meantemp\"]) "
   ]
  },
  {
   "cell_type": "code",
   "execution_count": 20,
   "id": "cd50e16a",
   "metadata": {},
   "outputs": [
    {
     "data": {
      "image/png": "[encoded data removed]",
      "text/plain": [
       "<Figure size 432x288 with 4 Axes>"
      ]
     },
     "execution_count": 20,
     "metadata": {},
     "output_type": "execute_result"
    },
    {
     "data": {
      "image/png": "[encoded data removed]",
      "text/plain": [
       "<Figure size 432x288 with 4 Axes>"
      ]
     },
     "metadata": {
      "needs_background": "light"
     },
     "output_type": "display_data"
    }
   ],
   "source": [
    "Decomp_Results.plot()"
   ]
  },
  {
   "cell_type": "code",
   "execution_count": 21,
   "id": "f6c62549",
   "metadata": {},
   "outputs": [
    {
     "data": {
      "text/plain": [
       "<AxesSubplot:xlabel='date'>"
      ]
     },
     "execution_count": 21,
     "metadata": {},
     "output_type": "execute_result"
    },
    {
     "data": {
      "image/png": "[encoded data removed]",
      "text/plain": [
       "<Figure size 432x288 with 1 Axes>"
      ]
     },
     "metadata": {
      "needs_background": "light"
     },
     "output_type": "display_data"
    }
   ],
   "source": [
    "Decomp_Results.seasonal.plot() "
   ]
  },
  {
   "cell_type": "code",
   "execution_count": 22,
   "id": "81460bcc",
   "metadata": {},
   "outputs": [
    {
     "data": {
      "text/plain": [
       "<AxesSubplot:xlabel='date'>"
      ]
     },
     "execution_count": 22,
     "metadata": {},
     "output_type": "execute_result"
    },
    {
     "data": {
      "image/png": "[encoded data removed]",
      "text/plain": [
       "<Figure size 432x288 with 1 Axes>"
      ]
     },
     "metadata": {
      "needs_background": "light"
     },
     "output_type": "display_data"
    }
   ],
   "source": [
    "Decomp_Results.trend.plot() "
   ]
  },
  {
   "cell_type": "code",
   "execution_count": 23,
   "id": "946819c7",
   "metadata": {},
   "outputs": [
    {
     "data": {
      "text/plain": [
       "<AxesSubplot:xlabel='date'>"
      ]
     },
     "execution_count": 23,
     "metadata": {},
     "output_type": "execute_result"
    },
    {
     "data": {
      "image/png": "[encoded data removed]",
      "text/plain": [
       "<Figure size 432x288 with 1 Axes>"
      ]
     },
     "metadata": {
      "needs_background": "light"
     },
     "output_type": "display_data"
    }
   ],
   "source": [
    "Decomp_Results.resid.plot() "
   ]
  },
  {
   "cell_type": "code",
   "execution_count": 24,
   "id": "ca7c470a",
   "metadata": {},
   "outputs": [],
   "source": [
    "from pmdarima import auto_arima "
   ]
  },
  {
   "cell_type": "code",
   "execution_count": 25,
   "id": "605b349e",
   "metadata": {},
   "outputs": [
    {
     "name": "stdout",
     "output_type": "stream",
     "text": [
      "Performing stepwise search to minimize aic\n",
      " ARIMA(2,0,2)(1,1,1)[7] intercept   : AIC=inf, Time=7.17 sec\n",
      " ARIMA(0,0,0)(0,1,0)[7] intercept   : AIC=7316.584, Time=0.10 sec\n",
      " ARIMA(1,0,0)(1,1,0)[7] intercept   : AIC=6027.641, Time=1.19 sec\n",
      " ARIMA(0,0,1)(0,1,1)[7] intercept   : AIC=6505.858, Time=0.72 sec\n",
      " ARIMA(0,0,0)(0,1,0)[7]             : AIC=7314.795, Time=0.07 sec\n",
      " ARIMA(1,0,0)(0,1,0)[7] intercept   : AIC=6414.758, Time=0.27 sec\n",
      " ARIMA(1,0,0)(2,1,0)[7] intercept   : AIC=5898.741, Time=2.56 sec\n",
      " ARIMA(1,0,0)(2,1,1)[7] intercept   : AIC=inf, Time=4.61 sec\n",
      " ARIMA(1,0,0)(1,1,1)[7] intercept   : AIC=inf, Time=4.32 sec\n",
      " ARIMA(0,0,0)(2,1,0)[7] intercept   : AIC=7165.176, Time=3.70 sec\n",
      " ARIMA(2,0,0)(2,1,0)[7] intercept   : AIC=5890.349, Time=2.75 sec\n",
      " ARIMA(2,0,0)(1,1,0)[7] intercept   : AIC=6025.791, Time=1.58 sec\n",
      " ARIMA(2,0,0)(2,1,1)[7] intercept   : AIC=inf, Time=12.13 sec\n",
      " ARIMA(2,0,0)(1,1,1)[7] intercept   : AIC=inf, Time=5.00 sec\n",
      " ARIMA(3,0,0)(2,1,0)[7] intercept   : AIC=5891.253, Time=2.41 sec\n",
      " ARIMA(2,0,1)(2,1,0)[7] intercept   : AIC=5891.320, Time=6.02 sec\n",
      " ARIMA(1,0,1)(2,1,0)[7] intercept   : AIC=5889.360, Time=3.73 sec\n",
      " ARIMA(1,0,1)(1,1,0)[7] intercept   : AIC=6025.744, Time=1.66 sec\n",
      " ARIMA(1,0,1)(2,1,1)[7] intercept   : AIC=inf, Time=7.83 sec\n",
      " ARIMA(1,0,1)(1,1,1)[7] intercept   : AIC=inf, Time=2.93 sec\n",
      " ARIMA(0,0,1)(2,1,0)[7] intercept   : AIC=6480.831, Time=2.49 sec\n",
      " ARIMA(1,0,2)(2,1,0)[7] intercept   : AIC=5888.396, Time=4.36 sec\n",
      " ARIMA(1,0,2)(1,1,0)[7] intercept   : AIC=6027.633, Time=2.03 sec\n",
      " ARIMA(1,0,2)(2,1,1)[7] intercept   : AIC=inf, Time=10.00 sec\n",
      " ARIMA(1,0,2)(1,1,1)[7] intercept   : AIC=inf, Time=6.04 sec\n",
      " ARIMA(0,0,2)(2,1,0)[7] intercept   : AIC=6169.675, Time=3.05 sec\n",
      " ARIMA(2,0,2)(2,1,0)[7] intercept   : AIC=5867.710, Time=10.76 sec\n",
      " ARIMA(2,0,2)(1,1,0)[7] intercept   : AIC=6016.855, Time=5.52 sec\n",
      " ARIMA(2,0,2)(2,1,1)[7] intercept   : AIC=inf, Time=10.45 sec\n",
      " ARIMA(3,0,2)(2,1,0)[7] intercept   : AIC=5864.196, Time=11.10 sec\n",
      " ARIMA(3,0,2)(1,1,0)[7] intercept   : AIC=6022.663, Time=7.49 sec\n",
      " ARIMA(3,0,2)(2,1,1)[7] intercept   : AIC=inf, Time=17.74 sec\n",
      " ARIMA(3,0,2)(1,1,1)[7] intercept   : AIC=inf, Time=9.28 sec\n",
      " ARIMA(3,0,1)(2,1,0)[7] intercept   : AIC=5891.479, Time=6.72 sec\n",
      " ARIMA(4,0,2)(2,1,0)[7] intercept   : AIC=5867.072, Time=16.74 sec\n",
      " ARIMA(3,0,3)(2,1,0)[7] intercept   : AIC=5866.881, Time=12.88 sec\n",
      " ARIMA(2,0,3)(2,1,0)[7] intercept   : AIC=5869.520, Time=12.96 sec\n",
      " ARIMA(4,0,1)(2,1,0)[7] intercept   : AIC=5869.380, Time=14.73 sec\n",
      " ARIMA(4,0,3)(2,1,0)[7] intercept   : AIC=5867.604, Time=15.77 sec\n",
      " ARIMA(3,0,2)(2,1,0)[7]             : AIC=5861.804, Time=6.22 sec\n",
      " ARIMA(3,0,2)(1,1,0)[7]             : AIC=6013.991, Time=2.92 sec\n",
      " ARIMA(3,0,2)(2,1,1)[7]             : AIC=inf, Time=7.44 sec\n",
      " ARIMA(3,0,2)(1,1,1)[7]             : AIC=inf, Time=6.10 sec\n",
      " ARIMA(2,0,2)(2,1,0)[7]             : AIC=5865.713, Time=3.00 sec\n",
      " ARIMA(3,0,1)(2,1,0)[7]             : AIC=5889.503, Time=2.45 sec\n",
      " ARIMA(4,0,2)(2,1,0)[7]             : AIC=5863.842, Time=5.75 sec\n",
      " ARIMA(3,0,3)(2,1,0)[7]             : AIC=5863.535, Time=5.17 sec\n",
      " ARIMA(2,0,1)(2,1,0)[7]             : AIC=5889.345, Time=1.64 sec\n",
      " ARIMA(2,0,3)(2,1,0)[7]             : AIC=5867.236, Time=4.14 sec\n",
      " ARIMA(4,0,1)(2,1,0)[7]             : AIC=5866.924, Time=5.40 sec\n",
      " ARIMA(4,0,3)(2,1,0)[7]             : AIC=5865.275, Time=6.89 sec\n",
      "\n",
      "Best model:  ARIMA(3,0,2)(2,1,0)[7]          \n",
      "Total fit time: 308.047 seconds\n"
     ]
    },
    {
     "data": {
      "text/html": [
       "<table class=\"simpletable\">\n",
       "<caption>SARIMAX Results</caption>\n",
       "<tr>\n",
       "  <th>Dep. Variable:</th>                  <td>y</td>               <th>  No. Observations:  </th>   <td>1462</td>   \n",
       "</tr>\n",
       "<tr>\n",
       "  <th>Model:</th>           <td>SARIMAX(3, 0, 2)x(2, 1, [], 7)</td> <th>  Log Likelihood     </th> <td>-2922.902</td>\n",
       "</tr>\n",
       "<tr>\n",
       "  <th>Date:</th>                   <td>Sun, 12 Mar 2023</td>        <th>  AIC                </th> <td>5861.804</td> \n",
       "</tr>\n",
       "<tr>\n",
       "  <th>Time:</th>                       <td>19:39:23</td>            <th>  BIC                </th> <td>5904.066</td> \n",
       "</tr>\n",
       "<tr>\n",
       "  <th>Sample:</th>                    <td>01-01-2013</td>           <th>  HQIC               </th> <td>5877.572</td> \n",
       "</tr>\n",
       "<tr>\n",
       "  <th></th>                          <td>- 01-01-2017</td>          <th>                     </th>     <td> </td>    \n",
       "</tr>\n",
       "<tr>\n",
       "  <th>Covariance Type:</th>               <td>opg</td>              <th>                     </th>     <td> </td>    \n",
       "</tr>\n",
       "</table>\n",
       "<table class=\"simpletable\">\n",
       "<tr>\n",
       "      <td></td>        <th>coef</th>     <th>std err</th>      <th>z</th>      <th>P>|z|</th>  <th>[0.025</th>    <th>0.975]</th>  \n",
       "</tr>\n",
       "<tr>\n",
       "  <th>ar.L1</th>    <td>    0.6806</td> <td>    0.032</td> <td>   21.236</td> <td> 0.000</td> <td>    0.618</td> <td>    0.743</td>\n",
       "</tr>\n",
       "<tr>\n",
       "  <th>ar.L2</th>    <td>    0.9854</td> <td>    0.012</td> <td>   84.294</td> <td> 0.000</td> <td>    0.963</td> <td>    1.008</td>\n",
       "</tr>\n",
       "<tr>\n",
       "  <th>ar.L3</th>    <td>   -0.6758</td> <td>    0.029</td> <td>  -23.358</td> <td> 0.000</td> <td>   -0.733</td> <td>   -0.619</td>\n",
       "</tr>\n",
       "<tr>\n",
       "  <th>ma.L1</th>    <td>    0.0446</td> <td>    0.024</td> <td>    1.871</td> <td> 0.061</td> <td>   -0.002</td> <td>    0.091</td>\n",
       "</tr>\n",
       "<tr>\n",
       "  <th>ma.L2</th>    <td>   -0.9258</td> <td>    0.023</td> <td>  -40.858</td> <td> 0.000</td> <td>   -0.970</td> <td>   -0.881</td>\n",
       "</tr>\n",
       "<tr>\n",
       "  <th>ar.S.L7</th>  <td>   -0.6606</td> <td>    0.023</td> <td>  -29.062</td> <td> 0.000</td> <td>   -0.705</td> <td>   -0.616</td>\n",
       "</tr>\n",
       "<tr>\n",
       "  <th>ar.S.L14</th> <td>   -0.3329</td> <td>    0.023</td> <td>  -14.264</td> <td> 0.000</td> <td>   -0.379</td> <td>   -0.287</td>\n",
       "</tr>\n",
       "<tr>\n",
       "  <th>sigma2</th>   <td>    3.2434</td> <td>    0.092</td> <td>   35.377</td> <td> 0.000</td> <td>    3.064</td> <td>    3.423</td>\n",
       "</tr>\n",
       "</table>\n",
       "<table class=\"simpletable\">\n",
       "<tr>\n",
       "  <th>Ljung-Box (L1) (Q):</th>     <td>0.12</td> <th>  Jarque-Bera (JB):  </th> <td>231.44</td>\n",
       "</tr>\n",
       "<tr>\n",
       "  <th>Prob(Q):</th>                <td>0.73</td> <th>  Prob(JB):          </th>  <td>0.00</td> \n",
       "</tr>\n",
       "<tr>\n",
       "  <th>Heteroskedasticity (H):</th> <td>0.76</td> <th>  Skew:              </th>  <td>-0.47</td>\n",
       "</tr>\n",
       "<tr>\n",
       "  <th>Prob(H) (two-sided):</th>    <td>0.00</td> <th>  Kurtosis:          </th>  <td>4.71</td> \n",
       "</tr>\n",
       "</table><br/><br/>Warnings:<br/>[1] Covariance matrix calculated using the outer product of gradients (complex-step)."
      ],
      "text/plain": [
       "<class 'statsmodels.iolib.summary.Summary'>\n",
       "\"\"\"\n",
       "                                     SARIMAX Results                                      \n",
       "==========================================================================================\n",
       "Dep. Variable:                                  y   No. Observations:                 1462\n",
       "Model:             SARIMAX(3, 0, 2)x(2, 1, [], 7)   Log Likelihood               -2922.902\n",
       "Date:                            Sun, 12 Mar 2023   AIC                           5861.804\n",
       "Time:                                    19:39:23   BIC                           5904.066\n",
       "Sample:                                01-01-2013   HQIC                          5877.572\n",
       "                                     - 01-01-2017                                         \n",
       "Covariance Type:                              opg                                         \n",
       "==============================================================================\n",
       "                 coef    std err          z      P>|z|      [0.025      0.975]\n",
       "------------------------------------------------------------------------------\n",
       "ar.L1          0.6806      0.032     21.236      0.000       0.618       0.743\n",
       "ar.L2          0.9854      0.012     84.294      0.000       0.963       1.008\n",
       "ar.L3         -0.6758      0.029    -23.358      0.000      -0.733      -0.619\n",
       "ma.L1          0.0446      0.024      1.871      0.061      -0.002       0.091\n",
       "ma.L2         -0.9258      0.023    -40.858      0.000      -0.970      -0.881\n",
       "ar.S.L7       -0.6606      0.023    -29.062      0.000      -0.705      -0.616\n",
       "ar.S.L14      -0.3329      0.023    -14.264      0.000      -0.379      -0.287\n",
       "sigma2         3.2434      0.092     35.377      0.000       3.064       3.423\n",
       "===================================================================================\n",
       "Ljung-Box (L1) (Q):                   0.12   Jarque-Bera (JB):               231.44\n",
       "Prob(Q):                              0.73   Prob(JB):                         0.00\n",
       "Heteroskedasticity (H):               0.76   Skew:                            -0.47\n",
       "Prob(H) (two-sided):                  0.00   Kurtosis:                         4.71\n",
       "===================================================================================\n",
       "\n",
       "Warnings:\n",
       "[1] Covariance matrix calculated using the outer product of gradients (complex-step).\n",
       "\"\"\""
      ]
     },
     "execution_count": 25,
     "metadata": {},
     "output_type": "execute_result"
    }
   ],
   "source": [
    "auto_arima(df[\"meantemp\"], exogenous=exo, m=7, trace=True, D=1).summary() "
   ]
  },
  {
   "cell_type": "code",
   "execution_count": 26,
   "id": "d42d0de8",
   "metadata": {},
   "outputs": [],
   "source": [
    "#ARIMA(3,0,2)(2,1,0)[7]    \n",
    "\n",
    "#seasonal order \n",
    "\n",
    "#P: 2\n",
    "#D: 1\n",
    "#Q: 0  \n",
    "#s = 7  "
   ]
  },
  {
   "cell_type": "code",
   "execution_count": 27,
   "id": "5aa2246e",
   "metadata": {},
   "outputs": [],
   "source": [
    "from statsmodels.tsa.statespace.sarimax import SARIMAX "
   ]
  },
  {
   "cell_type": "code",
   "execution_count": 28,
   "id": "370e90e9",
   "metadata": {},
   "outputs": [],
   "source": [
    "Model = SARIMAX(train, exog=exo_train, order=(3,0,2), seasonal_order=(2,1,0,7))  "
   ]
  },
  {
   "cell_type": "code",
   "execution_count": 29,
   "id": "f4d2351b",
   "metadata": {},
   "outputs": [
    {
     "name": "stderr",
     "output_type": "stream",
     "text": [
      "C:\\Users\\alexh\\anaconda3\\lib\\site-packages\\statsmodels\\tsa\\statespace\\sarimax.py:966: UserWarning: Non-stationary starting autoregressive parameters found. Using zeros as starting parameters.\n",
      "  warn('Non-stationary starting autoregressive parameters'\n",
      "C:\\Users\\alexh\\anaconda3\\lib\\site-packages\\statsmodels\\tsa\\statespace\\sarimax.py:978: UserWarning: Non-invertible starting MA parameters found. Using zeros as starting parameters.\n",
      "  warn('Non-invertible starting MA parameters found.'\n",
      "C:\\Users\\alexh\\anaconda3\\lib\\site-packages\\statsmodels\\base\\model.py:604: ConvergenceWarning: Maximum Likelihood optimization failed to converge. Check mle_retvals\n",
      "  warnings.warn(\"Maximum Likelihood optimization failed to \"\n"
     ]
    }
   ],
   "source": [
    "Model = Model.fit() "
   ]
  },
  {
   "cell_type": "code",
   "execution_count": 30,
   "id": "2400ed2f",
   "metadata": {},
   "outputs": [],
   "source": [
    "prediction = Model.predict(len(train), len(train) +len(test)-1, exog=exo_test, type=\"Levels\") "
   ]
  },
  {
   "cell_type": "code",
   "execution_count": 31,
   "id": "5b02f526",
   "metadata": {},
   "outputs": [
    {
     "name": "stderr",
     "output_type": "stream",
     "text": [
      "No artists with labels found to put in legend.  Note that artists whose label start with an underscore are ignored when legend() is called with no argument.\n"
     ]
    },
    {
     "data": {
      "image/png": "[encoded data removed]",
      "text/plain": [
       "<Figure size 432x288 with 1 Axes>"
      ]
     },
     "metadata": {
      "needs_background": "light"
     },
     "output_type": "display_data"
    }
   ],
   "source": [
    "plt.plot(test, color=\"red\")\n",
    "plt.plot(prediction, color=\"blue\")\n",
    "plt.title(\"SARIMAX for Actual vs Predicted Values for Mean Temperature\")\n",
    "plt.xlabel(\"Days\")\n",
    "plt.ylabel(\"Mean Temperature\")\n",
    "plt.legend()\n",
    "plt.show()"
   ]
  },
  {
   "cell_type": "code",
   "execution_count": 32,
   "id": "a5404de1",
   "metadata": {},
   "outputs": [],
   "source": [
    "import math\n",
    "from sklearn.metrics import mean_squared_error"
   ]
  },
  {
   "cell_type": "code",
   "execution_count": 33,
   "id": "6c78d8bd",
   "metadata": {},
   "outputs": [
    {
     "data": {
      "text/plain": [
       "91.89107295593251"
      ]
     },
     "execution_count": 33,
     "metadata": {},
     "output_type": "execute_result"
    }
   ],
   "source": [
    "math.sqrt(mean_squared_error(test, prediction))"
   ]
  },
  {
   "cell_type": "code",
   "execution_count": 34,
   "id": "47781796",
   "metadata": {},
   "outputs": [],
   "source": [
    "df = pd.read_csv(\"Delhi Climate Data 2013.csv\", index_col=\"date\", parse_dates=True)"
   ]
  },
  {
   "cell_type": "code",
   "execution_count": 35,
   "id": "712235ec",
   "metadata": {},
   "outputs": [
    {
     "data": {
      "text/html": [
       "<div>\n",
       "<style scoped>\n",
       "    .dataframe tbody tr th:only-of-type {\n",
       "        vertical-align: middle;\n",
       "    }\n",
       "\n",
       "    .dataframe tbody tr th {\n",
       "        vertical-align: top;\n",
       "    }\n",
       "\n",
       "    .dataframe thead th {\n",
       "        text-align: right;\n",
       "    }\n",
       "</style>\n",
       "<table border=\"1\" class=\"dataframe\">\n",
       "  <thead>\n",
       "    <tr style=\"text-align: right;\">\n",
       "      <th></th>\n",
       "      <th>meantemp</th>\n",
       "      <th>humidity</th>\n",
       "      <th>wind_speed</th>\n",
       "      <th>meanpressure</th>\n",
       "    </tr>\n",
       "    <tr>\n",
       "      <th>date</th>\n",
       "      <th></th>\n",
       "      <th></th>\n",
       "      <th></th>\n",
       "      <th></th>\n",
       "    </tr>\n",
       "  </thead>\n",
       "  <tbody>\n",
       "    <tr>\n",
       "      <th>2013-01-01</th>\n",
       "      <td>10.000000</td>\n",
       "      <td>84.500000</td>\n",
       "      <td>0.000000</td>\n",
       "      <td>1015.666667</td>\n",
       "    </tr>\n",
       "    <tr>\n",
       "      <th>2013-01-02</th>\n",
       "      <td>7.400000</td>\n",
       "      <td>92.000000</td>\n",
       "      <td>2.980000</td>\n",
       "      <td>1017.800000</td>\n",
       "    </tr>\n",
       "    <tr>\n",
       "      <th>2013-01-03</th>\n",
       "      <td>7.166667</td>\n",
       "      <td>87.000000</td>\n",
       "      <td>4.633333</td>\n",
       "      <td>1018.666667</td>\n",
       "    </tr>\n",
       "    <tr>\n",
       "      <th>2013-01-04</th>\n",
       "      <td>8.666667</td>\n",
       "      <td>71.333333</td>\n",
       "      <td>1.233333</td>\n",
       "      <td>1017.166667</td>\n",
       "    </tr>\n",
       "    <tr>\n",
       "      <th>2013-01-05</th>\n",
       "      <td>6.000000</td>\n",
       "      <td>86.833333</td>\n",
       "      <td>3.700000</td>\n",
       "      <td>1016.500000</td>\n",
       "    </tr>\n",
       "    <tr>\n",
       "      <th>...</th>\n",
       "      <td>...</td>\n",
       "      <td>...</td>\n",
       "      <td>...</td>\n",
       "      <td>...</td>\n",
       "    </tr>\n",
       "    <tr>\n",
       "      <th>2016-12-28</th>\n",
       "      <td>17.217391</td>\n",
       "      <td>68.043478</td>\n",
       "      <td>3.547826</td>\n",
       "      <td>1015.565217</td>\n",
       "    </tr>\n",
       "    <tr>\n",
       "      <th>2016-12-29</th>\n",
       "      <td>15.238095</td>\n",
       "      <td>87.857143</td>\n",
       "      <td>6.000000</td>\n",
       "      <td>1016.904762</td>\n",
       "    </tr>\n",
       "    <tr>\n",
       "      <th>2016-12-30</th>\n",
       "      <td>14.095238</td>\n",
       "      <td>89.666667</td>\n",
       "      <td>6.266667</td>\n",
       "      <td>1017.904762</td>\n",
       "    </tr>\n",
       "    <tr>\n",
       "      <th>2016-12-31</th>\n",
       "      <td>15.052632</td>\n",
       "      <td>87.000000</td>\n",
       "      <td>7.325000</td>\n",
       "      <td>1016.100000</td>\n",
       "    </tr>\n",
       "    <tr>\n",
       "      <th>2017-01-01</th>\n",
       "      <td>10.000000</td>\n",
       "      <td>100.000000</td>\n",
       "      <td>0.000000</td>\n",
       "      <td>1016.000000</td>\n",
       "    </tr>\n",
       "  </tbody>\n",
       "</table>\n",
       "<p>1462 rows × 4 columns</p>\n",
       "</div>"
      ],
      "text/plain": [
       "             meantemp    humidity  wind_speed  meanpressure\n",
       "date                                                       \n",
       "2013-01-01  10.000000   84.500000    0.000000   1015.666667\n",
       "2013-01-02   7.400000   92.000000    2.980000   1017.800000\n",
       "2013-01-03   7.166667   87.000000    4.633333   1018.666667\n",
       "2013-01-04   8.666667   71.333333    1.233333   1017.166667\n",
       "2013-01-05   6.000000   86.833333    3.700000   1016.500000\n",
       "...               ...         ...         ...           ...\n",
       "2016-12-28  17.217391   68.043478    3.547826   1015.565217\n",
       "2016-12-29  15.238095   87.857143    6.000000   1016.904762\n",
       "2016-12-30  14.095238   89.666667    6.266667   1017.904762\n",
       "2016-12-31  15.052632   87.000000    7.325000   1016.100000\n",
       "2017-01-01  10.000000  100.000000    0.000000   1016.000000\n",
       "\n",
       "[1462 rows x 4 columns]"
      ]
     },
     "execution_count": 35,
     "metadata": {},
     "output_type": "execute_result"
    }
   ],
   "source": [
    "df"
   ]
  },
  {
   "cell_type": "code",
   "execution_count": 36,
   "id": "16c25a47",
   "metadata": {},
   "outputs": [],
   "source": [
    "df.index.freq = \"D\""
   ]
  },
  {
   "cell_type": "code",
   "execution_count": 37,
   "id": "660940ff",
   "metadata": {},
   "outputs": [
    {
     "data": {
      "text/html": [
       "<div>\n",
       "<style scoped>\n",
       "    .dataframe tbody tr th:only-of-type {\n",
       "        vertical-align: middle;\n",
       "    }\n",
       "\n",
       "    .dataframe tbody tr th {\n",
       "        vertical-align: top;\n",
       "    }\n",
       "\n",
       "    .dataframe thead th {\n",
       "        text-align: right;\n",
       "    }\n",
       "</style>\n",
       "<table border=\"1\" class=\"dataframe\">\n",
       "  <thead>\n",
       "    <tr style=\"text-align: right;\">\n",
       "      <th></th>\n",
       "      <th>meantemp</th>\n",
       "      <th>humidity</th>\n",
       "      <th>wind_speed</th>\n",
       "      <th>meanpressure</th>\n",
       "    </tr>\n",
       "    <tr>\n",
       "      <th>date</th>\n",
       "      <th></th>\n",
       "      <th></th>\n",
       "      <th></th>\n",
       "      <th></th>\n",
       "    </tr>\n",
       "  </thead>\n",
       "  <tbody>\n",
       "    <tr>\n",
       "      <th>2013-01-01</th>\n",
       "      <td>10.000000</td>\n",
       "      <td>84.500000</td>\n",
       "      <td>0.000000</td>\n",
       "      <td>1015.666667</td>\n",
       "    </tr>\n",
       "    <tr>\n",
       "      <th>2013-01-02</th>\n",
       "      <td>7.400000</td>\n",
       "      <td>92.000000</td>\n",
       "      <td>2.980000</td>\n",
       "      <td>1017.800000</td>\n",
       "    </tr>\n",
       "    <tr>\n",
       "      <th>2013-01-03</th>\n",
       "      <td>7.166667</td>\n",
       "      <td>87.000000</td>\n",
       "      <td>4.633333</td>\n",
       "      <td>1018.666667</td>\n",
       "    </tr>\n",
       "    <tr>\n",
       "      <th>2013-01-04</th>\n",
       "      <td>8.666667</td>\n",
       "      <td>71.333333</td>\n",
       "      <td>1.233333</td>\n",
       "      <td>1017.166667</td>\n",
       "    </tr>\n",
       "    <tr>\n",
       "      <th>2013-01-05</th>\n",
       "      <td>6.000000</td>\n",
       "      <td>86.833333</td>\n",
       "      <td>3.700000</td>\n",
       "      <td>1016.500000</td>\n",
       "    </tr>\n",
       "    <tr>\n",
       "      <th>...</th>\n",
       "      <td>...</td>\n",
       "      <td>...</td>\n",
       "      <td>...</td>\n",
       "      <td>...</td>\n",
       "    </tr>\n",
       "    <tr>\n",
       "      <th>2016-12-28</th>\n",
       "      <td>17.217391</td>\n",
       "      <td>68.043478</td>\n",
       "      <td>3.547826</td>\n",
       "      <td>1015.565217</td>\n",
       "    </tr>\n",
       "    <tr>\n",
       "      <th>2016-12-29</th>\n",
       "      <td>15.238095</td>\n",
       "      <td>87.857143</td>\n",
       "      <td>6.000000</td>\n",
       "      <td>1016.904762</td>\n",
       "    </tr>\n",
       "    <tr>\n",
       "      <th>2016-12-30</th>\n",
       "      <td>14.095238</td>\n",
       "      <td>89.666667</td>\n",
       "      <td>6.266667</td>\n",
       "      <td>1017.904762</td>\n",
       "    </tr>\n",
       "    <tr>\n",
       "      <th>2016-12-31</th>\n",
       "      <td>15.052632</td>\n",
       "      <td>87.000000</td>\n",
       "      <td>7.325000</td>\n",
       "      <td>1016.100000</td>\n",
       "    </tr>\n",
       "    <tr>\n",
       "      <th>2017-01-01</th>\n",
       "      <td>10.000000</td>\n",
       "      <td>100.000000</td>\n",
       "      <td>0.000000</td>\n",
       "      <td>1016.000000</td>\n",
       "    </tr>\n",
       "  </tbody>\n",
       "</table>\n",
       "<p>1462 rows × 4 columns</p>\n",
       "</div>"
      ],
      "text/plain": [
       "             meantemp    humidity  wind_speed  meanpressure\n",
       "date                                                       \n",
       "2013-01-01  10.000000   84.500000    0.000000   1015.666667\n",
       "2013-01-02   7.400000   92.000000    2.980000   1017.800000\n",
       "2013-01-03   7.166667   87.000000    4.633333   1018.666667\n",
       "2013-01-04   8.666667   71.333333    1.233333   1017.166667\n",
       "2013-01-05   6.000000   86.833333    3.700000   1016.500000\n",
       "...               ...         ...         ...           ...\n",
       "2016-12-28  17.217391   68.043478    3.547826   1015.565217\n",
       "2016-12-29  15.238095   87.857143    6.000000   1016.904762\n",
       "2016-12-30  14.095238   89.666667    6.266667   1017.904762\n",
       "2016-12-31  15.052632   87.000000    7.325000   1016.100000\n",
       "2017-01-01  10.000000  100.000000    0.000000   1016.000000\n",
       "\n",
       "[1462 rows x 4 columns]"
      ]
     },
     "execution_count": 37,
     "metadata": {},
     "output_type": "execute_result"
    }
   ],
   "source": [
    "df.dropna()"
   ]
  },
  {
   "cell_type": "code",
   "execution_count": 38,
   "id": "39d2f7b4",
   "metadata": {},
   "outputs": [],
   "source": [
    "df = df[[\"humidity\", \"meantemp\", \"wind_speed\", \"meanpressure\"]]"
   ]
  },
  {
   "cell_type": "code",
   "execution_count": 40,
   "id": "a2cc57df",
   "metadata": {},
   "outputs": [
    {
     "data": {
      "text/plain": [
       "<AxesSubplot:>"
      ]
     },
     "execution_count": 40,
     "metadata": {},
     "output_type": "execute_result"
    },
    {
     "data": {
      "image/png": "[encoded data removed]",
      "text/plain": [
       "<Figure size 432x288 with 2 Axes>"
      ]
     },
     "metadata": {
      "needs_background": "light"
     },
     "output_type": "display_data"
    }
   ],
   "source": [
    "sns.heatmap(df.corr()) "
   ]
  },
  {
   "cell_type": "code",
   "execution_count": 41,
   "id": "d01653fc",
   "metadata": {},
   "outputs": [],
   "source": [
    "train = df.iloc[:1097, 0]\n",
    "test = df.iloc[1097:, 0]"
   ]
  },
  {
   "cell_type": "code",
   "execution_count": 42,
   "id": "a3b5ca96",
   "metadata": {},
   "outputs": [
    {
     "data": {
      "text/plain": [
       "date\n",
       "2013-01-01    84.500000\n",
       "2013-01-02    92.000000\n",
       "2013-01-03    87.000000\n",
       "2013-01-04    71.333333\n",
       "2013-01-05    86.833333\n",
       "                ...    \n",
       "2015-12-29    65.000000\n",
       "2015-12-30    71.750000\n",
       "2015-12-31    71.375000\n",
       "2016-01-01    72.285714\n",
       "2016-01-02    75.875000\n",
       "Freq: D, Name: humidity, Length: 1097, dtype: float64"
      ]
     },
     "execution_count": 42,
     "metadata": {},
     "output_type": "execute_result"
    }
   ],
   "source": [
    "train"
   ]
  },
  {
   "cell_type": "code",
   "execution_count": 43,
   "id": "669582a7",
   "metadata": {},
   "outputs": [
    {
     "data": {
      "text/plain": [
       "date\n",
       "2016-01-03     74.750000\n",
       "2016-01-04     77.125000\n",
       "2016-01-05     88.833333\n",
       "2016-01-06     81.625000\n",
       "2016-01-07     87.000000\n",
       "                 ...    \n",
       "2016-12-28     68.043478\n",
       "2016-12-29     87.857143\n",
       "2016-12-30     89.666667\n",
       "2016-12-31     87.000000\n",
       "2017-01-01    100.000000\n",
       "Freq: D, Name: humidity, Length: 365, dtype: float64"
      ]
     },
     "execution_count": 43,
     "metadata": {},
     "output_type": "execute_result"
    }
   ],
   "source": [
    "test"
   ]
  },
  {
   "cell_type": "code",
   "execution_count": 44,
   "id": "e04c87ce",
   "metadata": {},
   "outputs": [],
   "source": [
    "exo = df.iloc[:, 1:4] "
   ]
  },
  {
   "cell_type": "code",
   "execution_count": 45,
   "id": "9e6daaa5",
   "metadata": {},
   "outputs": [
    {
     "data": {
      "text/html": [
       "<div>\n",
       "<style scoped>\n",
       "    .dataframe tbody tr th:only-of-type {\n",
       "        vertical-align: middle;\n",
       "    }\n",
       "\n",
       "    .dataframe tbody tr th {\n",
       "        vertical-align: top;\n",
       "    }\n",
       "\n",
       "    .dataframe thead th {\n",
       "        text-align: right;\n",
       "    }\n",
       "</style>\n",
       "<table border=\"1\" class=\"dataframe\">\n",
       "  <thead>\n",
       "    <tr style=\"text-align: right;\">\n",
       "      <th></th>\n",
       "      <th>meantemp</th>\n",
       "      <th>wind_speed</th>\n",
       "      <th>meanpressure</th>\n",
       "    </tr>\n",
       "    <tr>\n",
       "      <th>date</th>\n",
       "      <th></th>\n",
       "      <th></th>\n",
       "      <th></th>\n",
       "    </tr>\n",
       "  </thead>\n",
       "  <tbody>\n",
       "    <tr>\n",
       "      <th>2013-01-01</th>\n",
       "      <td>10.000000</td>\n",
       "      <td>0.000000</td>\n",
       "      <td>1015.666667</td>\n",
       "    </tr>\n",
       "    <tr>\n",
       "      <th>2013-01-02</th>\n",
       "      <td>7.400000</td>\n",
       "      <td>2.980000</td>\n",
       "      <td>1017.800000</td>\n",
       "    </tr>\n",
       "    <tr>\n",
       "      <th>2013-01-03</th>\n",
       "      <td>7.166667</td>\n",
       "      <td>4.633333</td>\n",
       "      <td>1018.666667</td>\n",
       "    </tr>\n",
       "    <tr>\n",
       "      <th>2013-01-04</th>\n",
       "      <td>8.666667</td>\n",
       "      <td>1.233333</td>\n",
       "      <td>1017.166667</td>\n",
       "    </tr>\n",
       "    <tr>\n",
       "      <th>2013-01-05</th>\n",
       "      <td>6.000000</td>\n",
       "      <td>3.700000</td>\n",
       "      <td>1016.500000</td>\n",
       "    </tr>\n",
       "    <tr>\n",
       "      <th>...</th>\n",
       "      <td>...</td>\n",
       "      <td>...</td>\n",
       "      <td>...</td>\n",
       "    </tr>\n",
       "    <tr>\n",
       "      <th>2016-12-28</th>\n",
       "      <td>17.217391</td>\n",
       "      <td>3.547826</td>\n",
       "      <td>1015.565217</td>\n",
       "    </tr>\n",
       "    <tr>\n",
       "      <th>2016-12-29</th>\n",
       "      <td>15.238095</td>\n",
       "      <td>6.000000</td>\n",
       "      <td>1016.904762</td>\n",
       "    </tr>\n",
       "    <tr>\n",
       "      <th>2016-12-30</th>\n",
       "      <td>14.095238</td>\n",
       "      <td>6.266667</td>\n",
       "      <td>1017.904762</td>\n",
       "    </tr>\n",
       "    <tr>\n",
       "      <th>2016-12-31</th>\n",
       "      <td>15.052632</td>\n",
       "      <td>7.325000</td>\n",
       "      <td>1016.100000</td>\n",
       "    </tr>\n",
       "    <tr>\n",
       "      <th>2017-01-01</th>\n",
       "      <td>10.000000</td>\n",
       "      <td>0.000000</td>\n",
       "      <td>1016.000000</td>\n",
       "    </tr>\n",
       "  </tbody>\n",
       "</table>\n",
       "<p>1462 rows × 3 columns</p>\n",
       "</div>"
      ],
      "text/plain": [
       "             meantemp  wind_speed  meanpressure\n",
       "date                                           \n",
       "2013-01-01  10.000000    0.000000   1015.666667\n",
       "2013-01-02   7.400000    2.980000   1017.800000\n",
       "2013-01-03   7.166667    4.633333   1018.666667\n",
       "2013-01-04   8.666667    1.233333   1017.166667\n",
       "2013-01-05   6.000000    3.700000   1016.500000\n",
       "...               ...         ...           ...\n",
       "2016-12-28  17.217391    3.547826   1015.565217\n",
       "2016-12-29  15.238095    6.000000   1016.904762\n",
       "2016-12-30  14.095238    6.266667   1017.904762\n",
       "2016-12-31  15.052632    7.325000   1016.100000\n",
       "2017-01-01  10.000000    0.000000   1016.000000\n",
       "\n",
       "[1462 rows x 3 columns]"
      ]
     },
     "execution_count": 45,
     "metadata": {},
     "output_type": "execute_result"
    }
   ],
   "source": [
    "exo"
   ]
  },
  {
   "cell_type": "code",
   "execution_count": 46,
   "id": "48061168",
   "metadata": {},
   "outputs": [],
   "source": [
    "exo_train = df.iloc[:1097, 1:4] "
   ]
  },
  {
   "cell_type": "code",
   "execution_count": 47,
   "id": "3c2a1474",
   "metadata": {},
   "outputs": [
    {
     "data": {
      "text/html": [
       "<div>\n",
       "<style scoped>\n",
       "    .dataframe tbody tr th:only-of-type {\n",
       "        vertical-align: middle;\n",
       "    }\n",
       "\n",
       "    .dataframe tbody tr th {\n",
       "        vertical-align: top;\n",
       "    }\n",
       "\n",
       "    .dataframe thead th {\n",
       "        text-align: right;\n",
       "    }\n",
       "</style>\n",
       "<table border=\"1\" class=\"dataframe\">\n",
       "  <thead>\n",
       "    <tr style=\"text-align: right;\">\n",
       "      <th></th>\n",
       "      <th>meantemp</th>\n",
       "      <th>wind_speed</th>\n",
       "      <th>meanpressure</th>\n",
       "    </tr>\n",
       "    <tr>\n",
       "      <th>date</th>\n",
       "      <th></th>\n",
       "      <th></th>\n",
       "      <th></th>\n",
       "    </tr>\n",
       "  </thead>\n",
       "  <tbody>\n",
       "    <tr>\n",
       "      <th>2013-01-01</th>\n",
       "      <td>10.000000</td>\n",
       "      <td>0.000000</td>\n",
       "      <td>1015.666667</td>\n",
       "    </tr>\n",
       "    <tr>\n",
       "      <th>2013-01-02</th>\n",
       "      <td>7.400000</td>\n",
       "      <td>2.980000</td>\n",
       "      <td>1017.800000</td>\n",
       "    </tr>\n",
       "    <tr>\n",
       "      <th>2013-01-03</th>\n",
       "      <td>7.166667</td>\n",
       "      <td>4.633333</td>\n",
       "      <td>1018.666667</td>\n",
       "    </tr>\n",
       "    <tr>\n",
       "      <th>2013-01-04</th>\n",
       "      <td>8.666667</td>\n",
       "      <td>1.233333</td>\n",
       "      <td>1017.166667</td>\n",
       "    </tr>\n",
       "    <tr>\n",
       "      <th>2013-01-05</th>\n",
       "      <td>6.000000</td>\n",
       "      <td>3.700000</td>\n",
       "      <td>1016.500000</td>\n",
       "    </tr>\n",
       "    <tr>\n",
       "      <th>...</th>\n",
       "      <td>...</td>\n",
       "      <td>...</td>\n",
       "      <td>...</td>\n",
       "    </tr>\n",
       "    <tr>\n",
       "      <th>2015-12-29</th>\n",
       "      <td>16.375000</td>\n",
       "      <td>7.412500</td>\n",
       "      <td>1018.125000</td>\n",
       "    </tr>\n",
       "    <tr>\n",
       "      <th>2015-12-30</th>\n",
       "      <td>15.500000</td>\n",
       "      <td>2.100000</td>\n",
       "      <td>1017.500000</td>\n",
       "    </tr>\n",
       "    <tr>\n",
       "      <th>2015-12-31</th>\n",
       "      <td>15.000000</td>\n",
       "      <td>2.087500</td>\n",
       "      <td>1020.500000</td>\n",
       "    </tr>\n",
       "    <tr>\n",
       "      <th>2016-01-01</th>\n",
       "      <td>14.714286</td>\n",
       "      <td>1.057143</td>\n",
       "      <td>1021.142857</td>\n",
       "    </tr>\n",
       "    <tr>\n",
       "      <th>2016-01-02</th>\n",
       "      <td>14.000000</td>\n",
       "      <td>2.087500</td>\n",
       "      <td>1021.000000</td>\n",
       "    </tr>\n",
       "  </tbody>\n",
       "</table>\n",
       "<p>1097 rows × 3 columns</p>\n",
       "</div>"
      ],
      "text/plain": [
       "             meantemp  wind_speed  meanpressure\n",
       "date                                           \n",
       "2013-01-01  10.000000    0.000000   1015.666667\n",
       "2013-01-02   7.400000    2.980000   1017.800000\n",
       "2013-01-03   7.166667    4.633333   1018.666667\n",
       "2013-01-04   8.666667    1.233333   1017.166667\n",
       "2013-01-05   6.000000    3.700000   1016.500000\n",
       "...               ...         ...           ...\n",
       "2015-12-29  16.375000    7.412500   1018.125000\n",
       "2015-12-30  15.500000    2.100000   1017.500000\n",
       "2015-12-31  15.000000    2.087500   1020.500000\n",
       "2016-01-01  14.714286    1.057143   1021.142857\n",
       "2016-01-02  14.000000    2.087500   1021.000000\n",
       "\n",
       "[1097 rows x 3 columns]"
      ]
     },
     "execution_count": 47,
     "metadata": {},
     "output_type": "execute_result"
    }
   ],
   "source": [
    "exo_train"
   ]
  },
  {
   "cell_type": "code",
   "execution_count": 48,
   "id": "24a3306b",
   "metadata": {},
   "outputs": [],
   "source": [
    "exo_test = df.iloc[1097:, 1:4] "
   ]
  },
  {
   "cell_type": "code",
   "execution_count": 49,
   "id": "a85abb3e",
   "metadata": {},
   "outputs": [
    {
     "data": {
      "text/html": [
       "<div>\n",
       "<style scoped>\n",
       "    .dataframe tbody tr th:only-of-type {\n",
       "        vertical-align: middle;\n",
       "    }\n",
       "\n",
       "    .dataframe tbody tr th {\n",
       "        vertical-align: top;\n",
       "    }\n",
       "\n",
       "    .dataframe thead th {\n",
       "        text-align: right;\n",
       "    }\n",
       "</style>\n",
       "<table border=\"1\" class=\"dataframe\">\n",
       "  <thead>\n",
       "    <tr style=\"text-align: right;\">\n",
       "      <th></th>\n",
       "      <th>meantemp</th>\n",
       "      <th>wind_speed</th>\n",
       "      <th>meanpressure</th>\n",
       "    </tr>\n",
       "    <tr>\n",
       "      <th>date</th>\n",
       "      <th></th>\n",
       "      <th></th>\n",
       "      <th></th>\n",
       "    </tr>\n",
       "  </thead>\n",
       "  <tbody>\n",
       "    <tr>\n",
       "      <th>2016-01-03</th>\n",
       "      <td>14.375000</td>\n",
       "      <td>5.112500</td>\n",
       "      <td>1018.500000</td>\n",
       "    </tr>\n",
       "    <tr>\n",
       "      <th>2016-01-04</th>\n",
       "      <td>15.750000</td>\n",
       "      <td>0.000000</td>\n",
       "      <td>1017.625000</td>\n",
       "    </tr>\n",
       "    <tr>\n",
       "      <th>2016-01-05</th>\n",
       "      <td>15.833333</td>\n",
       "      <td>0.616667</td>\n",
       "      <td>1017.000000</td>\n",
       "    </tr>\n",
       "    <tr>\n",
       "      <th>2016-01-06</th>\n",
       "      <td>17.375000</td>\n",
       "      <td>2.312500</td>\n",
       "      <td>1016.500000</td>\n",
       "    </tr>\n",
       "    <tr>\n",
       "      <th>2016-01-07</th>\n",
       "      <td>17.125000</td>\n",
       "      <td>0.000000</td>\n",
       "      <td>1018.125000</td>\n",
       "    </tr>\n",
       "    <tr>\n",
       "      <th>...</th>\n",
       "      <td>...</td>\n",
       "      <td>...</td>\n",
       "      <td>...</td>\n",
       "    </tr>\n",
       "    <tr>\n",
       "      <th>2016-12-28</th>\n",
       "      <td>17.217391</td>\n",
       "      <td>3.547826</td>\n",
       "      <td>1015.565217</td>\n",
       "    </tr>\n",
       "    <tr>\n",
       "      <th>2016-12-29</th>\n",
       "      <td>15.238095</td>\n",
       "      <td>6.000000</td>\n",
       "      <td>1016.904762</td>\n",
       "    </tr>\n",
       "    <tr>\n",
       "      <th>2016-12-30</th>\n",
       "      <td>14.095238</td>\n",
       "      <td>6.266667</td>\n",
       "      <td>1017.904762</td>\n",
       "    </tr>\n",
       "    <tr>\n",
       "      <th>2016-12-31</th>\n",
       "      <td>15.052632</td>\n",
       "      <td>7.325000</td>\n",
       "      <td>1016.100000</td>\n",
       "    </tr>\n",
       "    <tr>\n",
       "      <th>2017-01-01</th>\n",
       "      <td>10.000000</td>\n",
       "      <td>0.000000</td>\n",
       "      <td>1016.000000</td>\n",
       "    </tr>\n",
       "  </tbody>\n",
       "</table>\n",
       "<p>365 rows × 3 columns</p>\n",
       "</div>"
      ],
      "text/plain": [
       "             meantemp  wind_speed  meanpressure\n",
       "date                                           \n",
       "2016-01-03  14.375000    5.112500   1018.500000\n",
       "2016-01-04  15.750000    0.000000   1017.625000\n",
       "2016-01-05  15.833333    0.616667   1017.000000\n",
       "2016-01-06  17.375000    2.312500   1016.500000\n",
       "2016-01-07  17.125000    0.000000   1018.125000\n",
       "...               ...         ...           ...\n",
       "2016-12-28  17.217391    3.547826   1015.565217\n",
       "2016-12-29  15.238095    6.000000   1016.904762\n",
       "2016-12-30  14.095238    6.266667   1017.904762\n",
       "2016-12-31  15.052632    7.325000   1016.100000\n",
       "2017-01-01  10.000000    0.000000   1016.000000\n",
       "\n",
       "[365 rows x 3 columns]"
      ]
     },
     "execution_count": 49,
     "metadata": {},
     "output_type": "execute_result"
    }
   ],
   "source": [
    "exo_test "
   ]
  },
  {
   "cell_type": "code",
   "execution_count": 50,
   "id": "2bbc7956",
   "metadata": {},
   "outputs": [],
   "source": [
    "from statsmodels.tsa.seasonal import seasonal_decompose "
   ]
  },
  {
   "cell_type": "code",
   "execution_count": 52,
   "id": "f25d7d48",
   "metadata": {},
   "outputs": [],
   "source": [
    "Seasonal_Results = seasonal_decompose(df[\"humidity\"])"
   ]
  },
  {
   "cell_type": "code",
   "execution_count": 53,
   "id": "74730c93",
   "metadata": {},
   "outputs": [
    {
     "data": {
      "image/png": "[encoded data removed]",
      "text/plain": [
       "<Figure size 432x288 with 4 Axes>"
      ]
     },
     "execution_count": 53,
     "metadata": {},
     "output_type": "execute_result"
    },
    {
     "data": {
      "image/png": "[encoded data removed]",
      "text/plain": [
       "<Figure size 432x288 with 4 Axes>"
      ]
     },
     "metadata": {
      "needs_background": "light"
     },
     "output_type": "display_data"
    }
   ],
   "source": [
    "Seasonal_Results.plot() "
   ]
  },
  {
   "cell_type": "code",
   "execution_count": 54,
   "id": "ddb1d601",
   "metadata": {},
   "outputs": [
    {
     "data": {
      "text/plain": [
       "<AxesSubplot:xlabel='date'>"
      ]
     },
     "execution_count": 54,
     "metadata": {},
     "output_type": "execute_result"
    },
    {
     "data": {
      "image/png": "[encoded data removed]",
      "text/plain": [
       "<Figure size 432x288 with 1 Axes>"
      ]
     },
     "metadata": {
      "needs_background": "light"
     },
     "output_type": "display_data"
    }
   ],
   "source": [
    "Seasonal_Results.resid.plot() "
   ]
  },
  {
   "cell_type": "code",
   "execution_count": 55,
   "id": "7a2c0bc7",
   "metadata": {},
   "outputs": [
    {
     "data": {
      "text/plain": [
       "<AxesSubplot:xlabel='date'>"
      ]
     },
     "execution_count": 55,
     "metadata": {},
     "output_type": "execute_result"
    },
    {
     "data": {
      "image/png": "[encoded data removed]",
      "text/plain": [
       "<Figure size 432x288 with 1 Axes>"
      ]
     },
     "metadata": {
      "needs_background": "light"
     },
     "output_type": "display_data"
    }
   ],
   "source": [
    "Seasonal_Results.trend.plot() "
   ]
  },
  {
   "cell_type": "code",
   "execution_count": 56,
   "id": "3bdac661",
   "metadata": {},
   "outputs": [
    {
     "data": {
      "text/plain": [
       "<AxesSubplot:xlabel='date'>"
      ]
     },
     "execution_count": 56,
     "metadata": {},
     "output_type": "execute_result"
    },
    {
     "data": {
      "image/png": "[encoded data removed]",
      "text/plain": [
       "<Figure size 432x288 with 1 Axes>"
      ]
     },
     "metadata": {
      "needs_background": "light"
     },
     "output_type": "display_data"
    }
   ],
   "source": [
    "Seasonal_Results.seasonal.plot() "
   ]
  },
  {
   "cell_type": "code",
   "execution_count": 57,
   "id": "2b735e2e",
   "metadata": {},
   "outputs": [],
   "source": [
    "from pmdarima import auto_arima "
   ]
  },
  {
   "cell_type": "code",
   "execution_count": 58,
   "id": "b6aab07f",
   "metadata": {},
   "outputs": [
    {
     "name": "stdout",
     "output_type": "stream",
     "text": [
      "Performing stepwise search to minimize aic\n",
      " ARIMA(2,0,2)(1,1,1)[7] intercept   : AIC=inf, Time=6.57 sec\n",
      " ARIMA(0,0,0)(0,1,0)[7] intercept   : AIC=8934.110, Time=0.09 sec\n",
      " ARIMA(1,0,0)(1,1,0)[7] intercept   : AIC=8007.238, Time=2.09 sec\n",
      " ARIMA(0,0,1)(0,1,1)[7] intercept   : AIC=8158.652, Time=0.67 sec\n",
      " ARIMA(0,0,0)(0,1,0)[7]             : AIC=8932.159, Time=0.05 sec\n",
      " ARIMA(1,0,0)(0,1,0)[7] intercept   : AIC=8328.790, Time=0.26 sec\n",
      " ARIMA(1,0,0)(2,1,0)[7] intercept   : AIC=7891.508, Time=2.56 sec\n",
      " ARIMA(1,0,0)(2,1,1)[7] intercept   : AIC=inf, Time=5.99 sec\n",
      " ARIMA(1,0,0)(1,1,1)[7] intercept   : AIC=inf, Time=2.80 sec\n",
      " ARIMA(0,0,0)(2,1,0)[7] intercept   : AIC=8676.485, Time=6.08 sec\n",
      " ARIMA(2,0,0)(2,1,0)[7] intercept   : AIC=7893.392, Time=3.04 sec\n",
      " ARIMA(1,0,1)(2,1,0)[7] intercept   : AIC=7893.378, Time=4.01 sec\n",
      " ARIMA(0,0,1)(2,1,0)[7] intercept   : AIC=8175.282, Time=3.58 sec\n",
      " ARIMA(2,0,1)(2,1,0)[7] intercept   : AIC=7892.620, Time=4.33 sec\n",
      " ARIMA(1,0,0)(2,1,0)[7]             : AIC=7889.525, Time=0.55 sec\n",
      " ARIMA(1,0,0)(1,1,0)[7]             : AIC=8005.249, Time=0.32 sec\n",
      " ARIMA(1,0,0)(2,1,1)[7]             : AIC=inf, Time=3.71 sec\n",
      " ARIMA(1,0,0)(1,1,1)[7]             : AIC=inf, Time=1.95 sec\n",
      " ARIMA(0,0,0)(2,1,0)[7]             : AIC=8674.540, Time=0.41 sec\n",
      " ARIMA(2,0,0)(2,1,0)[7]             : AIC=7891.409, Time=0.68 sec\n",
      " ARIMA(1,0,1)(2,1,0)[7]             : AIC=7891.394, Time=0.66 sec\n",
      " ARIMA(0,0,1)(2,1,0)[7]             : AIC=8173.322, Time=0.56 sec\n",
      " ARIMA(2,0,1)(2,1,0)[7]             : AIC=7890.636, Time=1.27 sec\n",
      "\n",
      "Best model:  ARIMA(1,0,0)(2,1,0)[7]          \n",
      "Total fit time: 52.233 seconds\n"
     ]
    },
    {
     "data": {
      "text/html": [
       "<table class=\"simpletable\">\n",
       "<caption>SARIMAX Results</caption>\n",
       "<tr>\n",
       "  <th>Dep. Variable:</th>                 <td>y</td>               <th>  No. Observations:  </th>   <td>1097</td>   \n",
       "</tr>\n",
       "<tr>\n",
       "  <th>Model:</th>           <td>SARIMAX(1, 0, 0)x(2, 1, 0, 7)</td> <th>  Log Likelihood     </th> <td>-3940.762</td>\n",
       "</tr>\n",
       "<tr>\n",
       "  <th>Date:</th>                  <td>Sun, 12 Mar 2023</td>        <th>  AIC                </th> <td>7889.525</td> \n",
       "</tr>\n",
       "<tr>\n",
       "  <th>Time:</th>                      <td>19:44:34</td>            <th>  BIC                </th> <td>7909.500</td> \n",
       "</tr>\n",
       "<tr>\n",
       "  <th>Sample:</th>                   <td>01-01-2013</td>           <th>  HQIC               </th> <td>7897.085</td> \n",
       "</tr>\n",
       "<tr>\n",
       "  <th></th>                         <td>- 01-02-2016</td>          <th>                     </th>     <td> </td>    \n",
       "</tr>\n",
       "<tr>\n",
       "  <th>Covariance Type:</th>              <td>opg</td>              <th>                     </th>     <td> </td>    \n",
       "</tr>\n",
       "</table>\n",
       "<table class=\"simpletable\">\n",
       "<tr>\n",
       "      <td></td>        <th>coef</th>     <th>std err</th>      <th>z</th>      <th>P>|z|</th>  <th>[0.025</th>    <th>0.975]</th>  \n",
       "</tr>\n",
       "<tr>\n",
       "  <th>ar.L1</th>    <td>    0.7287</td> <td>    0.020</td> <td>   36.612</td> <td> 0.000</td> <td>    0.690</td> <td>    0.768</td>\n",
       "</tr>\n",
       "<tr>\n",
       "  <th>ar.S.L7</th>  <td>   -0.6789</td> <td>    0.027</td> <td>  -25.249</td> <td> 0.000</td> <td>   -0.732</td> <td>   -0.626</td>\n",
       "</tr>\n",
       "<tr>\n",
       "  <th>ar.S.L14</th> <td>   -0.3267</td> <td>    0.026</td> <td>  -12.557</td> <td> 0.000</td> <td>   -0.378</td> <td>   -0.276</td>\n",
       "</tr>\n",
       "<tr>\n",
       "  <th>sigma2</th>   <td>   80.5525</td> <td>    2.752</td> <td>   29.266</td> <td> 0.000</td> <td>   75.158</td> <td>   85.947</td>\n",
       "</tr>\n",
       "</table>\n",
       "<table class=\"simpletable\">\n",
       "<tr>\n",
       "  <th>Ljung-Box (L1) (Q):</th>     <td>0.06</td> <th>  Jarque-Bera (JB):  </th> <td>100.21</td>\n",
       "</tr>\n",
       "<tr>\n",
       "  <th>Prob(Q):</th>                <td>0.81</td> <th>  Prob(JB):          </th>  <td>0.00</td> \n",
       "</tr>\n",
       "<tr>\n",
       "  <th>Heteroskedasticity (H):</th> <td>0.84</td> <th>  Skew:              </th>  <td>0.42</td> \n",
       "</tr>\n",
       "<tr>\n",
       "  <th>Prob(H) (two-sided):</th>    <td>0.11</td> <th>  Kurtosis:          </th>  <td>4.23</td> \n",
       "</tr>\n",
       "</table><br/><br/>Warnings:<br/>[1] Covariance matrix calculated using the outer product of gradients (complex-step)."
      ],
      "text/plain": [
       "<class 'statsmodels.iolib.summary.Summary'>\n",
       "\"\"\"\n",
       "                                     SARIMAX Results                                     \n",
       "=========================================================================================\n",
       "Dep. Variable:                                 y   No. Observations:                 1097\n",
       "Model:             SARIMAX(1, 0, 0)x(2, 1, 0, 7)   Log Likelihood               -3940.762\n",
       "Date:                           Sun, 12 Mar 2023   AIC                           7889.525\n",
       "Time:                                   19:44:34   BIC                           7909.500\n",
       "Sample:                               01-01-2013   HQIC                          7897.085\n",
       "                                    - 01-02-2016                                         \n",
       "Covariance Type:                             opg                                         \n",
       "==============================================================================\n",
       "                 coef    std err          z      P>|z|      [0.025      0.975]\n",
       "------------------------------------------------------------------------------\n",
       "ar.L1          0.7287      0.020     36.612      0.000       0.690       0.768\n",
       "ar.S.L7       -0.6789      0.027    -25.249      0.000      -0.732      -0.626\n",
       "ar.S.L14      -0.3267      0.026    -12.557      0.000      -0.378      -0.276\n",
       "sigma2        80.5525      2.752     29.266      0.000      75.158      85.947\n",
       "===================================================================================\n",
       "Ljung-Box (L1) (Q):                   0.06   Jarque-Bera (JB):               100.21\n",
       "Prob(Q):                              0.81   Prob(JB):                         0.00\n",
       "Heteroskedasticity (H):               0.84   Skew:                             0.42\n",
       "Prob(H) (two-sided):                  0.11   Kurtosis:                         4.23\n",
       "===================================================================================\n",
       "\n",
       "Warnings:\n",
       "[1] Covariance matrix calculated using the outer product of gradients (complex-step).\n",
       "\"\"\""
      ]
     },
     "execution_count": 58,
     "metadata": {},
     "output_type": "execute_result"
    }
   ],
   "source": [
    "auto_arima(train, exogenous=exo, trace=True, m=7, D=1).summary() "
   ]
  },
  {
   "cell_type": "code",
   "execution_count": null,
   "id": "77f9ec68",
   "metadata": {},
   "outputs": [],
   "source": [
    "#ARIMA(1,0,0)(2,1,0)[7] "
   ]
  },
  {
   "cell_type": "code",
   "execution_count": 62,
   "id": "9a8c9f71",
   "metadata": {},
   "outputs": [],
   "source": [
    "from statsmodels.tsa.statespace.sarimax import SARIMAX "
   ]
  },
  {
   "cell_type": "code",
   "execution_count": 65,
   "id": "67d99b26",
   "metadata": {},
   "outputs": [],
   "source": [
    "Model = SARIMAX(train, order=(1, 0, 0), seasonal_order=(2, 1, 0, 7)) "
   ]
  },
  {
   "cell_type": "code",
   "execution_count": 66,
   "id": "9bb1ec5a",
   "metadata": {},
   "outputs": [],
   "source": [
    "Model = Model.fit() "
   ]
  },
  {
   "cell_type": "code",
   "execution_count": 71,
   "id": "d2ed8080",
   "metadata": {},
   "outputs": [],
   "source": [
    "predicted = Model.predict(start=len(train), end=len(train) + len(test)- 1, exog=exo_test, type=\"Levels\") "
   ]
  },
  {
   "cell_type": "code",
   "execution_count": 72,
   "id": "1dc0d189",
   "metadata": {},
   "outputs": [
    {
     "data": {
      "text/plain": [
       "2016-01-03    67.028053\n",
       "2016-01-04    65.841391\n",
       "2016-01-05    69.918351\n",
       "2016-01-06    73.132202\n",
       "2016-01-07    71.166015\n",
       "                ...    \n",
       "2016-12-28    74.009036\n",
       "2016-12-29    70.824356\n",
       "2016-12-30    70.041549\n",
       "2016-12-31    71.380149\n",
       "2017-01-01    66.279277\n",
       "Freq: D, Name: predicted_mean, Length: 365, dtype: float64"
      ]
     },
     "execution_count": 72,
     "metadata": {},
     "output_type": "execute_result"
    }
   ],
   "source": [
    "predicted"
   ]
  },
  {
   "cell_type": "code",
   "execution_count": 73,
   "id": "1a686cb1",
   "metadata": {},
   "outputs": [
    {
     "name": "stderr",
     "output_type": "stream",
     "text": [
      "No artists with labels found to put in legend.  Note that artists whose label start with an underscore are ignored when legend() is called with no argument.\n"
     ]
    },
    {
     "data": {
      "image/png": "[encoded data removed]",
      "text/plain": [
       "<Figure size 432x288 with 1 Axes>"
      ]
     },
     "metadata": {
      "needs_background": "light"
     },
     "output_type": "display_data"
    }
   ],
   "source": [
    "plt.plot(test, color=\"red\")\n",
    "plt.plot(predicted, color=\"blue\")\n",
    "plt.title(\"SARIMAX Results for Actual and Predicted Values Humidity\")\n",
    "plt.xlabel(\"Days\")\n",
    "plt.ylabel(\"Humidity\")\n",
    "plt.legend()\n",
    "plt.show() "
   ]
  },
  {
   "cell_type": "code",
   "execution_count": 74,
   "id": "a9af2eec",
   "metadata": {},
   "outputs": [],
   "source": [
    "import math\n",
    "from sklearn.metrics import mean_squared_error "
   ]
  },
  {
   "cell_type": "code",
   "execution_count": 75,
   "id": "c72cc95e",
   "metadata": {},
   "outputs": [],
   "source": [
    "RMSE = math.sqrt(mean_squared_error(test, predicted)) "
   ]
  },
  {
   "cell_type": "code",
   "execution_count": 76,
   "id": "c348449f",
   "metadata": {},
   "outputs": [
    {
     "data": {
      "text/plain": [
       "20.08195864754004"
      ]
     },
     "execution_count": 76,
     "metadata": {},
     "output_type": "execute_result"
    }
   ],
   "source": [
    "RMSE"
   ]
  },
  {
   "cell_type": "code",
   "execution_count": 77,
   "id": "964b34d7",
   "metadata": {},
   "outputs": [],
   "source": [
    "#round 3 "
   ]
  },
  {
   "cell_type": "code",
   "execution_count": 78,
   "id": "7909580e",
   "metadata": {},
   "outputs": [],
   "source": [
    "df = pd.read_csv(\"Delhi Climate Data 2013.csv\", index_col=\"date\", parse_dates=True) "
   ]
  },
  {
   "cell_type": "code",
   "execution_count": 79,
   "id": "bf5e2210",
   "metadata": {},
   "outputs": [
    {
     "data": {
      "text/html": [
       "<div>\n",
       "<style scoped>\n",
       "    .dataframe tbody tr th:only-of-type {\n",
       "        vertical-align: middle;\n",
       "    }\n",
       "\n",
       "    .dataframe tbody tr th {\n",
       "        vertical-align: top;\n",
       "    }\n",
       "\n",
       "    .dataframe thead th {\n",
       "        text-align: right;\n",
       "    }\n",
       "</style>\n",
       "<table border=\"1\" class=\"dataframe\">\n",
       "  <thead>\n",
       "    <tr style=\"text-align: right;\">\n",
       "      <th></th>\n",
       "      <th>meantemp</th>\n",
       "      <th>humidity</th>\n",
       "      <th>wind_speed</th>\n",
       "      <th>meanpressure</th>\n",
       "    </tr>\n",
       "    <tr>\n",
       "      <th>date</th>\n",
       "      <th></th>\n",
       "      <th></th>\n",
       "      <th></th>\n",
       "      <th></th>\n",
       "    </tr>\n",
       "  </thead>\n",
       "  <tbody>\n",
       "    <tr>\n",
       "      <th>2013-01-01</th>\n",
       "      <td>10.000000</td>\n",
       "      <td>84.500000</td>\n",
       "      <td>0.000000</td>\n",
       "      <td>1015.666667</td>\n",
       "    </tr>\n",
       "    <tr>\n",
       "      <th>2013-01-02</th>\n",
       "      <td>7.400000</td>\n",
       "      <td>92.000000</td>\n",
       "      <td>2.980000</td>\n",
       "      <td>1017.800000</td>\n",
       "    </tr>\n",
       "    <tr>\n",
       "      <th>2013-01-03</th>\n",
       "      <td>7.166667</td>\n",
       "      <td>87.000000</td>\n",
       "      <td>4.633333</td>\n",
       "      <td>1018.666667</td>\n",
       "    </tr>\n",
       "    <tr>\n",
       "      <th>2013-01-04</th>\n",
       "      <td>8.666667</td>\n",
       "      <td>71.333333</td>\n",
       "      <td>1.233333</td>\n",
       "      <td>1017.166667</td>\n",
       "    </tr>\n",
       "    <tr>\n",
       "      <th>2013-01-05</th>\n",
       "      <td>6.000000</td>\n",
       "      <td>86.833333</td>\n",
       "      <td>3.700000</td>\n",
       "      <td>1016.500000</td>\n",
       "    </tr>\n",
       "    <tr>\n",
       "      <th>...</th>\n",
       "      <td>...</td>\n",
       "      <td>...</td>\n",
       "      <td>...</td>\n",
       "      <td>...</td>\n",
       "    </tr>\n",
       "    <tr>\n",
       "      <th>2016-12-28</th>\n",
       "      <td>17.217391</td>\n",
       "      <td>68.043478</td>\n",
       "      <td>3.547826</td>\n",
       "      <td>1015.565217</td>\n",
       "    </tr>\n",
       "    <tr>\n",
       "      <th>2016-12-29</th>\n",
       "      <td>15.238095</td>\n",
       "      <td>87.857143</td>\n",
       "      <td>6.000000</td>\n",
       "      <td>1016.904762</td>\n",
       "    </tr>\n",
       "    <tr>\n",
       "      <th>2016-12-30</th>\n",
       "      <td>14.095238</td>\n",
       "      <td>89.666667</td>\n",
       "      <td>6.266667</td>\n",
       "      <td>1017.904762</td>\n",
       "    </tr>\n",
       "    <tr>\n",
       "      <th>2016-12-31</th>\n",
       "      <td>15.052632</td>\n",
       "      <td>87.000000</td>\n",
       "      <td>7.325000</td>\n",
       "      <td>1016.100000</td>\n",
       "    </tr>\n",
       "    <tr>\n",
       "      <th>2017-01-01</th>\n",
       "      <td>10.000000</td>\n",
       "      <td>100.000000</td>\n",
       "      <td>0.000000</td>\n",
       "      <td>1016.000000</td>\n",
       "    </tr>\n",
       "  </tbody>\n",
       "</table>\n",
       "<p>1462 rows × 4 columns</p>\n",
       "</div>"
      ],
      "text/plain": [
       "             meantemp    humidity  wind_speed  meanpressure\n",
       "date                                                       \n",
       "2013-01-01  10.000000   84.500000    0.000000   1015.666667\n",
       "2013-01-02   7.400000   92.000000    2.980000   1017.800000\n",
       "2013-01-03   7.166667   87.000000    4.633333   1018.666667\n",
       "2013-01-04   8.666667   71.333333    1.233333   1017.166667\n",
       "2013-01-05   6.000000   86.833333    3.700000   1016.500000\n",
       "...               ...         ...         ...           ...\n",
       "2016-12-28  17.217391   68.043478    3.547826   1015.565217\n",
       "2016-12-29  15.238095   87.857143    6.000000   1016.904762\n",
       "2016-12-30  14.095238   89.666667    6.266667   1017.904762\n",
       "2016-12-31  15.052632   87.000000    7.325000   1016.100000\n",
       "2017-01-01  10.000000  100.000000    0.000000   1016.000000\n",
       "\n",
       "[1462 rows x 4 columns]"
      ]
     },
     "execution_count": 79,
     "metadata": {},
     "output_type": "execute_result"
    }
   ],
   "source": [
    "df"
   ]
  },
  {
   "cell_type": "code",
   "execution_count": 80,
   "id": "f4f219c8",
   "metadata": {},
   "outputs": [],
   "source": [
    "df.index.freq = \"D\" "
   ]
  },
  {
   "cell_type": "code",
   "execution_count": 81,
   "id": "d40235d0",
   "metadata": {},
   "outputs": [],
   "source": [
    "df = df.dropna()"
   ]
  },
  {
   "cell_type": "code",
   "execution_count": 82,
   "id": "68806cb4",
   "metadata": {},
   "outputs": [
    {
     "data": {
      "text/html": [
       "<div>\n",
       "<style scoped>\n",
       "    .dataframe tbody tr th:only-of-type {\n",
       "        vertical-align: middle;\n",
       "    }\n",
       "\n",
       "    .dataframe tbody tr th {\n",
       "        vertical-align: top;\n",
       "    }\n",
       "\n",
       "    .dataframe thead th {\n",
       "        text-align: right;\n",
       "    }\n",
       "</style>\n",
       "<table border=\"1\" class=\"dataframe\">\n",
       "  <thead>\n",
       "    <tr style=\"text-align: right;\">\n",
       "      <th></th>\n",
       "      <th>meantemp</th>\n",
       "      <th>humidity</th>\n",
       "      <th>wind_speed</th>\n",
       "      <th>meanpressure</th>\n",
       "    </tr>\n",
       "    <tr>\n",
       "      <th>date</th>\n",
       "      <th></th>\n",
       "      <th></th>\n",
       "      <th></th>\n",
       "      <th></th>\n",
       "    </tr>\n",
       "  </thead>\n",
       "  <tbody>\n",
       "    <tr>\n",
       "      <th>2013-01-01</th>\n",
       "      <td>10.000000</td>\n",
       "      <td>84.500000</td>\n",
       "      <td>0.000000</td>\n",
       "      <td>1015.666667</td>\n",
       "    </tr>\n",
       "    <tr>\n",
       "      <th>2013-01-02</th>\n",
       "      <td>7.400000</td>\n",
       "      <td>92.000000</td>\n",
       "      <td>2.980000</td>\n",
       "      <td>1017.800000</td>\n",
       "    </tr>\n",
       "    <tr>\n",
       "      <th>2013-01-03</th>\n",
       "      <td>7.166667</td>\n",
       "      <td>87.000000</td>\n",
       "      <td>4.633333</td>\n",
       "      <td>1018.666667</td>\n",
       "    </tr>\n",
       "    <tr>\n",
       "      <th>2013-01-04</th>\n",
       "      <td>8.666667</td>\n",
       "      <td>71.333333</td>\n",
       "      <td>1.233333</td>\n",
       "      <td>1017.166667</td>\n",
       "    </tr>\n",
       "    <tr>\n",
       "      <th>2013-01-05</th>\n",
       "      <td>6.000000</td>\n",
       "      <td>86.833333</td>\n",
       "      <td>3.700000</td>\n",
       "      <td>1016.500000</td>\n",
       "    </tr>\n",
       "    <tr>\n",
       "      <th>...</th>\n",
       "      <td>...</td>\n",
       "      <td>...</td>\n",
       "      <td>...</td>\n",
       "      <td>...</td>\n",
       "    </tr>\n",
       "    <tr>\n",
       "      <th>2016-12-28</th>\n",
       "      <td>17.217391</td>\n",
       "      <td>68.043478</td>\n",
       "      <td>3.547826</td>\n",
       "      <td>1015.565217</td>\n",
       "    </tr>\n",
       "    <tr>\n",
       "      <th>2016-12-29</th>\n",
       "      <td>15.238095</td>\n",
       "      <td>87.857143</td>\n",
       "      <td>6.000000</td>\n",
       "      <td>1016.904762</td>\n",
       "    </tr>\n",
       "    <tr>\n",
       "      <th>2016-12-30</th>\n",
       "      <td>14.095238</td>\n",
       "      <td>89.666667</td>\n",
       "      <td>6.266667</td>\n",
       "      <td>1017.904762</td>\n",
       "    </tr>\n",
       "    <tr>\n",
       "      <th>2016-12-31</th>\n",
       "      <td>15.052632</td>\n",
       "      <td>87.000000</td>\n",
       "      <td>7.325000</td>\n",
       "      <td>1016.100000</td>\n",
       "    </tr>\n",
       "    <tr>\n",
       "      <th>2017-01-01</th>\n",
       "      <td>10.000000</td>\n",
       "      <td>100.000000</td>\n",
       "      <td>0.000000</td>\n",
       "      <td>1016.000000</td>\n",
       "    </tr>\n",
       "  </tbody>\n",
       "</table>\n",
       "<p>1462 rows × 4 columns</p>\n",
       "</div>"
      ],
      "text/plain": [
       "             meantemp    humidity  wind_speed  meanpressure\n",
       "date                                                       \n",
       "2013-01-01  10.000000   84.500000    0.000000   1015.666667\n",
       "2013-01-02   7.400000   92.000000    2.980000   1017.800000\n",
       "2013-01-03   7.166667   87.000000    4.633333   1018.666667\n",
       "2013-01-04   8.666667   71.333333    1.233333   1017.166667\n",
       "2013-01-05   6.000000   86.833333    3.700000   1016.500000\n",
       "...               ...         ...         ...           ...\n",
       "2016-12-28  17.217391   68.043478    3.547826   1015.565217\n",
       "2016-12-29  15.238095   87.857143    6.000000   1016.904762\n",
       "2016-12-30  14.095238   89.666667    6.266667   1017.904762\n",
       "2016-12-31  15.052632   87.000000    7.325000   1016.100000\n",
       "2017-01-01  10.000000  100.000000    0.000000   1016.000000\n",
       "\n",
       "[1462 rows x 4 columns]"
      ]
     },
     "execution_count": 82,
     "metadata": {},
     "output_type": "execute_result"
    }
   ],
   "source": [
    "df"
   ]
  },
  {
   "cell_type": "code",
   "execution_count": 83,
   "id": "b98130d3",
   "metadata": {},
   "outputs": [],
   "source": [
    "df = df[[\"wind_speed\", \"meantemp\", \"humidity\", \"meanpressure\"]] "
   ]
  },
  {
   "cell_type": "code",
   "execution_count": 84,
   "id": "06addfc1",
   "metadata": {},
   "outputs": [
    {
     "data": {
      "text/html": [
       "<div>\n",
       "<style scoped>\n",
       "    .dataframe tbody tr th:only-of-type {\n",
       "        vertical-align: middle;\n",
       "    }\n",
       "\n",
       "    .dataframe tbody tr th {\n",
       "        vertical-align: top;\n",
       "    }\n",
       "\n",
       "    .dataframe thead th {\n",
       "        text-align: right;\n",
       "    }\n",
       "</style>\n",
       "<table border=\"1\" class=\"dataframe\">\n",
       "  <thead>\n",
       "    <tr style=\"text-align: right;\">\n",
       "      <th></th>\n",
       "      <th>wind_speed</th>\n",
       "      <th>meantemp</th>\n",
       "      <th>humidity</th>\n",
       "      <th>meanpressure</th>\n",
       "    </tr>\n",
       "    <tr>\n",
       "      <th>date</th>\n",
       "      <th></th>\n",
       "      <th></th>\n",
       "      <th></th>\n",
       "      <th></th>\n",
       "    </tr>\n",
       "  </thead>\n",
       "  <tbody>\n",
       "    <tr>\n",
       "      <th>2013-01-01</th>\n",
       "      <td>0.000000</td>\n",
       "      <td>10.000000</td>\n",
       "      <td>84.500000</td>\n",
       "      <td>1015.666667</td>\n",
       "    </tr>\n",
       "    <tr>\n",
       "      <th>2013-01-02</th>\n",
       "      <td>2.980000</td>\n",
       "      <td>7.400000</td>\n",
       "      <td>92.000000</td>\n",
       "      <td>1017.800000</td>\n",
       "    </tr>\n",
       "    <tr>\n",
       "      <th>2013-01-03</th>\n",
       "      <td>4.633333</td>\n",
       "      <td>7.166667</td>\n",
       "      <td>87.000000</td>\n",
       "      <td>1018.666667</td>\n",
       "    </tr>\n",
       "    <tr>\n",
       "      <th>2013-01-04</th>\n",
       "      <td>1.233333</td>\n",
       "      <td>8.666667</td>\n",
       "      <td>71.333333</td>\n",
       "      <td>1017.166667</td>\n",
       "    </tr>\n",
       "    <tr>\n",
       "      <th>2013-01-05</th>\n",
       "      <td>3.700000</td>\n",
       "      <td>6.000000</td>\n",
       "      <td>86.833333</td>\n",
       "      <td>1016.500000</td>\n",
       "    </tr>\n",
       "    <tr>\n",
       "      <th>...</th>\n",
       "      <td>...</td>\n",
       "      <td>...</td>\n",
       "      <td>...</td>\n",
       "      <td>...</td>\n",
       "    </tr>\n",
       "    <tr>\n",
       "      <th>2016-12-28</th>\n",
       "      <td>3.547826</td>\n",
       "      <td>17.217391</td>\n",
       "      <td>68.043478</td>\n",
       "      <td>1015.565217</td>\n",
       "    </tr>\n",
       "    <tr>\n",
       "      <th>2016-12-29</th>\n",
       "      <td>6.000000</td>\n",
       "      <td>15.238095</td>\n",
       "      <td>87.857143</td>\n",
       "      <td>1016.904762</td>\n",
       "    </tr>\n",
       "    <tr>\n",
       "      <th>2016-12-30</th>\n",
       "      <td>6.266667</td>\n",
       "      <td>14.095238</td>\n",
       "      <td>89.666667</td>\n",
       "      <td>1017.904762</td>\n",
       "    </tr>\n",
       "    <tr>\n",
       "      <th>2016-12-31</th>\n",
       "      <td>7.325000</td>\n",
       "      <td>15.052632</td>\n",
       "      <td>87.000000</td>\n",
       "      <td>1016.100000</td>\n",
       "    </tr>\n",
       "    <tr>\n",
       "      <th>2017-01-01</th>\n",
       "      <td>0.000000</td>\n",
       "      <td>10.000000</td>\n",
       "      <td>100.000000</td>\n",
       "      <td>1016.000000</td>\n",
       "    </tr>\n",
       "  </tbody>\n",
       "</table>\n",
       "<p>1462 rows × 4 columns</p>\n",
       "</div>"
      ],
      "text/plain": [
       "            wind_speed   meantemp    humidity  meanpressure\n",
       "date                                                       \n",
       "2013-01-01    0.000000  10.000000   84.500000   1015.666667\n",
       "2013-01-02    2.980000   7.400000   92.000000   1017.800000\n",
       "2013-01-03    4.633333   7.166667   87.000000   1018.666667\n",
       "2013-01-04    1.233333   8.666667   71.333333   1017.166667\n",
       "2013-01-05    3.700000   6.000000   86.833333   1016.500000\n",
       "...                ...        ...         ...           ...\n",
       "2016-12-28    3.547826  17.217391   68.043478   1015.565217\n",
       "2016-12-29    6.000000  15.238095   87.857143   1016.904762\n",
       "2016-12-30    6.266667  14.095238   89.666667   1017.904762\n",
       "2016-12-31    7.325000  15.052632   87.000000   1016.100000\n",
       "2017-01-01    0.000000  10.000000  100.000000   1016.000000\n",
       "\n",
       "[1462 rows x 4 columns]"
      ]
     },
     "execution_count": 84,
     "metadata": {},
     "output_type": "execute_result"
    }
   ],
   "source": [
    "df"
   ]
  },
  {
   "cell_type": "code",
   "execution_count": 93,
   "id": "2220c72b",
   "metadata": {},
   "outputs": [
    {
     "data": {
      "text/plain": [
       "<AxesSubplot:>"
      ]
     },
     "execution_count": 93,
     "metadata": {},
     "output_type": "execute_result"
    },
    {
     "data": {
      "image/png": "[encoded data removed]",
      "text/plain": [
       "<Figure size 432x288 with 2 Axes>"
      ]
     },
     "metadata": {
      "needs_background": "light"
     },
     "output_type": "display_data"
    }
   ],
   "source": [
    "sns.heatmap(df.corr()) "
   ]
  },
  {
   "cell_type": "code",
   "execution_count": 85,
   "id": "64e8369d",
   "metadata": {},
   "outputs": [],
   "source": [
    "train = df.iloc[:1097, 0]\n",
    "test = df.iloc[1097:, 0] "
   ]
  },
  {
   "cell_type": "code",
   "execution_count": 86,
   "id": "8116a314",
   "metadata": {},
   "outputs": [
    {
     "data": {
      "text/plain": [
       "date\n",
       "2013-01-01    0.000000\n",
       "2013-01-02    2.980000\n",
       "2013-01-03    4.633333\n",
       "2013-01-04    1.233333\n",
       "2013-01-05    3.700000\n",
       "                ...   \n",
       "2015-12-29    7.412500\n",
       "2015-12-30    2.100000\n",
       "2015-12-31    2.087500\n",
       "2016-01-01    1.057143\n",
       "2016-01-02    2.087500\n",
       "Freq: D, Name: wind_speed, Length: 1097, dtype: float64"
      ]
     },
     "execution_count": 86,
     "metadata": {},
     "output_type": "execute_result"
    }
   ],
   "source": [
    "train"
   ]
  },
  {
   "cell_type": "code",
   "execution_count": 87,
   "id": "88c8daee",
   "metadata": {},
   "outputs": [
    {
     "data": {
      "text/plain": [
       "date\n",
       "2016-01-03    5.112500\n",
       "2016-01-04    0.000000\n",
       "2016-01-05    0.616667\n",
       "2016-01-06    2.312500\n",
       "2016-01-07    0.000000\n",
       "                ...   \n",
       "2016-12-28    3.547826\n",
       "2016-12-29    6.000000\n",
       "2016-12-30    6.266667\n",
       "2016-12-31    7.325000\n",
       "2017-01-01    0.000000\n",
       "Freq: D, Name: wind_speed, Length: 365, dtype: float64"
      ]
     },
     "execution_count": 87,
     "metadata": {},
     "output_type": "execute_result"
    }
   ],
   "source": [
    "test"
   ]
  },
  {
   "cell_type": "code",
   "execution_count": 88,
   "id": "1355f995",
   "metadata": {},
   "outputs": [],
   "source": [
    "exo = df.iloc[:, 1:4] "
   ]
  },
  {
   "cell_type": "code",
   "execution_count": 89,
   "id": "18d5b72c",
   "metadata": {},
   "outputs": [
    {
     "data": {
      "text/html": [
       "<div>\n",
       "<style scoped>\n",
       "    .dataframe tbody tr th:only-of-type {\n",
       "        vertical-align: middle;\n",
       "    }\n",
       "\n",
       "    .dataframe tbody tr th {\n",
       "        vertical-align: top;\n",
       "    }\n",
       "\n",
       "    .dataframe thead th {\n",
       "        text-align: right;\n",
       "    }\n",
       "</style>\n",
       "<table border=\"1\" class=\"dataframe\">\n",
       "  <thead>\n",
       "    <tr style=\"text-align: right;\">\n",
       "      <th></th>\n",
       "      <th>meantemp</th>\n",
       "      <th>humidity</th>\n",
       "      <th>meanpressure</th>\n",
       "    </tr>\n",
       "    <tr>\n",
       "      <th>date</th>\n",
       "      <th></th>\n",
       "      <th></th>\n",
       "      <th></th>\n",
       "    </tr>\n",
       "  </thead>\n",
       "  <tbody>\n",
       "    <tr>\n",
       "      <th>2013-01-01</th>\n",
       "      <td>10.000000</td>\n",
       "      <td>84.500000</td>\n",
       "      <td>1015.666667</td>\n",
       "    </tr>\n",
       "    <tr>\n",
       "      <th>2013-01-02</th>\n",
       "      <td>7.400000</td>\n",
       "      <td>92.000000</td>\n",
       "      <td>1017.800000</td>\n",
       "    </tr>\n",
       "    <tr>\n",
       "      <th>2013-01-03</th>\n",
       "      <td>7.166667</td>\n",
       "      <td>87.000000</td>\n",
       "      <td>1018.666667</td>\n",
       "    </tr>\n",
       "    <tr>\n",
       "      <th>2013-01-04</th>\n",
       "      <td>8.666667</td>\n",
       "      <td>71.333333</td>\n",
       "      <td>1017.166667</td>\n",
       "    </tr>\n",
       "    <tr>\n",
       "      <th>2013-01-05</th>\n",
       "      <td>6.000000</td>\n",
       "      <td>86.833333</td>\n",
       "      <td>1016.500000</td>\n",
       "    </tr>\n",
       "    <tr>\n",
       "      <th>...</th>\n",
       "      <td>...</td>\n",
       "      <td>...</td>\n",
       "      <td>...</td>\n",
       "    </tr>\n",
       "    <tr>\n",
       "      <th>2016-12-28</th>\n",
       "      <td>17.217391</td>\n",
       "      <td>68.043478</td>\n",
       "      <td>1015.565217</td>\n",
       "    </tr>\n",
       "    <tr>\n",
       "      <th>2016-12-29</th>\n",
       "      <td>15.238095</td>\n",
       "      <td>87.857143</td>\n",
       "      <td>1016.904762</td>\n",
       "    </tr>\n",
       "    <tr>\n",
       "      <th>2016-12-30</th>\n",
       "      <td>14.095238</td>\n",
       "      <td>89.666667</td>\n",
       "      <td>1017.904762</td>\n",
       "    </tr>\n",
       "    <tr>\n",
       "      <th>2016-12-31</th>\n",
       "      <td>15.052632</td>\n",
       "      <td>87.000000</td>\n",
       "      <td>1016.100000</td>\n",
       "    </tr>\n",
       "    <tr>\n",
       "      <th>2017-01-01</th>\n",
       "      <td>10.000000</td>\n",
       "      <td>100.000000</td>\n",
       "      <td>1016.000000</td>\n",
       "    </tr>\n",
       "  </tbody>\n",
       "</table>\n",
       "<p>1462 rows × 3 columns</p>\n",
       "</div>"
      ],
      "text/plain": [
       "             meantemp    humidity  meanpressure\n",
       "date                                           \n",
       "2013-01-01  10.000000   84.500000   1015.666667\n",
       "2013-01-02   7.400000   92.000000   1017.800000\n",
       "2013-01-03   7.166667   87.000000   1018.666667\n",
       "2013-01-04   8.666667   71.333333   1017.166667\n",
       "2013-01-05   6.000000   86.833333   1016.500000\n",
       "...               ...         ...           ...\n",
       "2016-12-28  17.217391   68.043478   1015.565217\n",
       "2016-12-29  15.238095   87.857143   1016.904762\n",
       "2016-12-30  14.095238   89.666667   1017.904762\n",
       "2016-12-31  15.052632   87.000000   1016.100000\n",
       "2017-01-01  10.000000  100.000000   1016.000000\n",
       "\n",
       "[1462 rows x 3 columns]"
      ]
     },
     "execution_count": 89,
     "metadata": {},
     "output_type": "execute_result"
    }
   ],
   "source": [
    "exo"
   ]
  },
  {
   "cell_type": "code",
   "execution_count": 90,
   "id": "c70e2316",
   "metadata": {},
   "outputs": [],
   "source": [
    "exo_train = df.iloc[:1097, 1:4] \n",
    "exo_test = df.iloc[1097:, 1:4] "
   ]
  },
  {
   "cell_type": "code",
   "execution_count": 91,
   "id": "43c9aaad",
   "metadata": {},
   "outputs": [
    {
     "data": {
      "text/html": [
       "<div>\n",
       "<style scoped>\n",
       "    .dataframe tbody tr th:only-of-type {\n",
       "        vertical-align: middle;\n",
       "    }\n",
       "\n",
       "    .dataframe tbody tr th {\n",
       "        vertical-align: top;\n",
       "    }\n",
       "\n",
       "    .dataframe thead th {\n",
       "        text-align: right;\n",
       "    }\n",
       "</style>\n",
       "<table border=\"1\" class=\"dataframe\">\n",
       "  <thead>\n",
       "    <tr style=\"text-align: right;\">\n",
       "      <th></th>\n",
       "      <th>meantemp</th>\n",
       "      <th>humidity</th>\n",
       "      <th>meanpressure</th>\n",
       "    </tr>\n",
       "    <tr>\n",
       "      <th>date</th>\n",
       "      <th></th>\n",
       "      <th></th>\n",
       "      <th></th>\n",
       "    </tr>\n",
       "  </thead>\n",
       "  <tbody>\n",
       "    <tr>\n",
       "      <th>2013-01-01</th>\n",
       "      <td>10.000000</td>\n",
       "      <td>84.500000</td>\n",
       "      <td>1015.666667</td>\n",
       "    </tr>\n",
       "    <tr>\n",
       "      <th>2013-01-02</th>\n",
       "      <td>7.400000</td>\n",
       "      <td>92.000000</td>\n",
       "      <td>1017.800000</td>\n",
       "    </tr>\n",
       "    <tr>\n",
       "      <th>2013-01-03</th>\n",
       "      <td>7.166667</td>\n",
       "      <td>87.000000</td>\n",
       "      <td>1018.666667</td>\n",
       "    </tr>\n",
       "    <tr>\n",
       "      <th>2013-01-04</th>\n",
       "      <td>8.666667</td>\n",
       "      <td>71.333333</td>\n",
       "      <td>1017.166667</td>\n",
       "    </tr>\n",
       "    <tr>\n",
       "      <th>2013-01-05</th>\n",
       "      <td>6.000000</td>\n",
       "      <td>86.833333</td>\n",
       "      <td>1016.500000</td>\n",
       "    </tr>\n",
       "    <tr>\n",
       "      <th>...</th>\n",
       "      <td>...</td>\n",
       "      <td>...</td>\n",
       "      <td>...</td>\n",
       "    </tr>\n",
       "    <tr>\n",
       "      <th>2015-12-29</th>\n",
       "      <td>16.375000</td>\n",
       "      <td>65.000000</td>\n",
       "      <td>1018.125000</td>\n",
       "    </tr>\n",
       "    <tr>\n",
       "      <th>2015-12-30</th>\n",
       "      <td>15.500000</td>\n",
       "      <td>71.750000</td>\n",
       "      <td>1017.500000</td>\n",
       "    </tr>\n",
       "    <tr>\n",
       "      <th>2015-12-31</th>\n",
       "      <td>15.000000</td>\n",
       "      <td>71.375000</td>\n",
       "      <td>1020.500000</td>\n",
       "    </tr>\n",
       "    <tr>\n",
       "      <th>2016-01-01</th>\n",
       "      <td>14.714286</td>\n",
       "      <td>72.285714</td>\n",
       "      <td>1021.142857</td>\n",
       "    </tr>\n",
       "    <tr>\n",
       "      <th>2016-01-02</th>\n",
       "      <td>14.000000</td>\n",
       "      <td>75.875000</td>\n",
       "      <td>1021.000000</td>\n",
       "    </tr>\n",
       "  </tbody>\n",
       "</table>\n",
       "<p>1097 rows × 3 columns</p>\n",
       "</div>"
      ],
      "text/plain": [
       "             meantemp   humidity  meanpressure\n",
       "date                                          \n",
       "2013-01-01  10.000000  84.500000   1015.666667\n",
       "2013-01-02   7.400000  92.000000   1017.800000\n",
       "2013-01-03   7.166667  87.000000   1018.666667\n",
       "2013-01-04   8.666667  71.333333   1017.166667\n",
       "2013-01-05   6.000000  86.833333   1016.500000\n",
       "...               ...        ...           ...\n",
       "2015-12-29  16.375000  65.000000   1018.125000\n",
       "2015-12-30  15.500000  71.750000   1017.500000\n",
       "2015-12-31  15.000000  71.375000   1020.500000\n",
       "2016-01-01  14.714286  72.285714   1021.142857\n",
       "2016-01-02  14.000000  75.875000   1021.000000\n",
       "\n",
       "[1097 rows x 3 columns]"
      ]
     },
     "execution_count": 91,
     "metadata": {},
     "output_type": "execute_result"
    }
   ],
   "source": [
    "exo_train"
   ]
  },
  {
   "cell_type": "code",
   "execution_count": 92,
   "id": "5c4b6a27",
   "metadata": {},
   "outputs": [
    {
     "data": {
      "text/html": [
       "<div>\n",
       "<style scoped>\n",
       "    .dataframe tbody tr th:only-of-type {\n",
       "        vertical-align: middle;\n",
       "    }\n",
       "\n",
       "    .dataframe tbody tr th {\n",
       "        vertical-align: top;\n",
       "    }\n",
       "\n",
       "    .dataframe thead th {\n",
       "        text-align: right;\n",
       "    }\n",
       "</style>\n",
       "<table border=\"1\" class=\"dataframe\">\n",
       "  <thead>\n",
       "    <tr style=\"text-align: right;\">\n",
       "      <th></th>\n",
       "      <th>meantemp</th>\n",
       "      <th>humidity</th>\n",
       "      <th>meanpressure</th>\n",
       "    </tr>\n",
       "    <tr>\n",
       "      <th>date</th>\n",
       "      <th></th>\n",
       "      <th></th>\n",
       "      <th></th>\n",
       "    </tr>\n",
       "  </thead>\n",
       "  <tbody>\n",
       "    <tr>\n",
       "      <th>2016-01-03</th>\n",
       "      <td>14.375000</td>\n",
       "      <td>74.750000</td>\n",
       "      <td>1018.500000</td>\n",
       "    </tr>\n",
       "    <tr>\n",
       "      <th>2016-01-04</th>\n",
       "      <td>15.750000</td>\n",
       "      <td>77.125000</td>\n",
       "      <td>1017.625000</td>\n",
       "    </tr>\n",
       "    <tr>\n",
       "      <th>2016-01-05</th>\n",
       "      <td>15.833333</td>\n",
       "      <td>88.833333</td>\n",
       "      <td>1017.000000</td>\n",
       "    </tr>\n",
       "    <tr>\n",
       "      <th>2016-01-06</th>\n",
       "      <td>17.375000</td>\n",
       "      <td>81.625000</td>\n",
       "      <td>1016.500000</td>\n",
       "    </tr>\n",
       "    <tr>\n",
       "      <th>2016-01-07</th>\n",
       "      <td>17.125000</td>\n",
       "      <td>87.000000</td>\n",
       "      <td>1018.125000</td>\n",
       "    </tr>\n",
       "    <tr>\n",
       "      <th>...</th>\n",
       "      <td>...</td>\n",
       "      <td>...</td>\n",
       "      <td>...</td>\n",
       "    </tr>\n",
       "    <tr>\n",
       "      <th>2016-12-28</th>\n",
       "      <td>17.217391</td>\n",
       "      <td>68.043478</td>\n",
       "      <td>1015.565217</td>\n",
       "    </tr>\n",
       "    <tr>\n",
       "      <th>2016-12-29</th>\n",
       "      <td>15.238095</td>\n",
       "      <td>87.857143</td>\n",
       "      <td>1016.904762</td>\n",
       "    </tr>\n",
       "    <tr>\n",
       "      <th>2016-12-30</th>\n",
       "      <td>14.095238</td>\n",
       "      <td>89.666667</td>\n",
       "      <td>1017.904762</td>\n",
       "    </tr>\n",
       "    <tr>\n",
       "      <th>2016-12-31</th>\n",
       "      <td>15.052632</td>\n",
       "      <td>87.000000</td>\n",
       "      <td>1016.100000</td>\n",
       "    </tr>\n",
       "    <tr>\n",
       "      <th>2017-01-01</th>\n",
       "      <td>10.000000</td>\n",
       "      <td>100.000000</td>\n",
       "      <td>1016.000000</td>\n",
       "    </tr>\n",
       "  </tbody>\n",
       "</table>\n",
       "<p>365 rows × 3 columns</p>\n",
       "</div>"
      ],
      "text/plain": [
       "             meantemp    humidity  meanpressure\n",
       "date                                           \n",
       "2016-01-03  14.375000   74.750000   1018.500000\n",
       "2016-01-04  15.750000   77.125000   1017.625000\n",
       "2016-01-05  15.833333   88.833333   1017.000000\n",
       "2016-01-06  17.375000   81.625000   1016.500000\n",
       "2016-01-07  17.125000   87.000000   1018.125000\n",
       "...               ...         ...           ...\n",
       "2016-12-28  17.217391   68.043478   1015.565217\n",
       "2016-12-29  15.238095   87.857143   1016.904762\n",
       "2016-12-30  14.095238   89.666667   1017.904762\n",
       "2016-12-31  15.052632   87.000000   1016.100000\n",
       "2017-01-01  10.000000  100.000000   1016.000000\n",
       "\n",
       "[365 rows x 3 columns]"
      ]
     },
     "execution_count": 92,
     "metadata": {},
     "output_type": "execute_result"
    }
   ],
   "source": [
    "exo_test "
   ]
  },
  {
   "cell_type": "code",
   "execution_count": 94,
   "id": "bae8c38b",
   "metadata": {},
   "outputs": [],
   "source": [
    "from statsmodels.tsa.seasonal import seasonal_decompose"
   ]
  },
  {
   "cell_type": "code",
   "execution_count": 95,
   "id": "0e2cc0c0",
   "metadata": {},
   "outputs": [],
   "source": [
    "Seasonal_Results = seasonal_decompose(df[\"wind_speed\"]) "
   ]
  },
  {
   "cell_type": "code",
   "execution_count": 97,
   "id": "aac3d836",
   "metadata": {},
   "outputs": [
    {
     "data": {
      "image/png": "[encoded data removed]",
      "text/plain": [
       "<Figure size 432x288 with 4 Axes>"
      ]
     },
     "execution_count": 97,
     "metadata": {},
     "output_type": "execute_result"
    },
    {
     "data": {
      "image/png": "[encoded data removed]",
      "text/plain": [
       "<Figure size 432x288 with 4 Axes>"
      ]
     },
     "metadata": {
      "needs_background": "light"
     },
     "output_type": "display_data"
    }
   ],
   "source": [
    "Seasonal_Results.plot() "
   ]
  },
  {
   "cell_type": "code",
   "execution_count": 98,
   "id": "bee4ecd5",
   "metadata": {},
   "outputs": [
    {
     "data": {
      "text/plain": [
       "<AxesSubplot:xlabel='date'>"
      ]
     },
     "execution_count": 98,
     "metadata": {},
     "output_type": "execute_result"
    },
    {
     "data": {
      "image/png": "[encoded data removed]",
      "text/plain": [
       "<Figure size 432x288 with 1 Axes>"
      ]
     },
     "metadata": {
      "needs_background": "light"
     },
     "output_type": "display_data"
    }
   ],
   "source": [
    "Seasonal_Results.resid.plot()"
   ]
  },
  {
   "cell_type": "code",
   "execution_count": 99,
   "id": "bafca195",
   "metadata": {},
   "outputs": [
    {
     "data": {
      "text/plain": [
       "<AxesSubplot:xlabel='date'>"
      ]
     },
     "execution_count": 99,
     "metadata": {},
     "output_type": "execute_result"
    },
    {
     "data": {
      "image/png": "[encoded data removed]",
      "text/plain": [
       "<Figure size 432x288 with 1 Axes>"
      ]
     },
     "metadata": {
      "needs_background": "light"
     },
     "output_type": "display_data"
    }
   ],
   "source": [
    "Seasonal_Results.trend.plot()"
   ]
  },
  {
   "cell_type": "code",
   "execution_count": 100,
   "id": "fbc4472e",
   "metadata": {},
   "outputs": [
    {
     "data": {
      "text/plain": [
       "<AxesSubplot:xlabel='date'>"
      ]
     },
     "execution_count": 100,
     "metadata": {},
     "output_type": "execute_result"
    },
    {
     "data": {
      "image/png": "[encoded data removed]",
      "text/plain": [
       "<Figure size 432x288 with 1 Axes>"
      ]
     },
     "metadata": {
      "needs_background": "light"
     },
     "output_type": "display_data"
    }
   ],
   "source": [
    "Seasonal_Results.seasonal.plot()"
   ]
  },
  {
   "cell_type": "code",
   "execution_count": 101,
   "id": "daa2c787",
   "metadata": {},
   "outputs": [],
   "source": [
    "from pmdarima import auto_arima"
   ]
  },
  {
   "cell_type": "code",
   "execution_count": 102,
   "id": "bee80cc2",
   "metadata": {},
   "outputs": [
    {
     "name": "stdout",
     "output_type": "stream",
     "text": [
      "Performing stepwise search to minimize aic\n",
      " ARIMA(2,0,2)(1,1,1)[7] intercept   : AIC=inf, Time=7.28 sec\n",
      " ARIMA(0,0,0)(0,1,0)[7] intercept   : AIC=9312.460, Time=0.08 sec\n",
      " ARIMA(1,0,0)(1,1,0)[7] intercept   : AIC=8745.261, Time=1.45 sec\n",
      " ARIMA(0,0,1)(0,1,1)[7] intercept   : AIC=8327.233, Time=1.02 sec\n",
      " ARIMA(0,0,0)(0,1,0)[7]             : AIC=9310.468, Time=0.08 sec\n",
      " ARIMA(0,0,1)(0,1,0)[7] intercept   : AIC=9139.330, Time=0.44 sec\n",
      " ARIMA(0,0,1)(1,1,1)[7] intercept   : AIC=8328.467, Time=1.39 sec\n",
      " ARIMA(0,0,1)(0,1,2)[7] intercept   : AIC=8328.491, Time=3.01 sec\n",
      " ARIMA(0,0,1)(1,1,0)[7] intercept   : AIC=8755.348, Time=1.28 sec\n",
      " ARIMA(0,0,1)(1,1,2)[7] intercept   : AIC=8330.688, Time=2.40 sec\n",
      " ARIMA(0,0,0)(0,1,1)[7] intercept   : AIC=8541.463, Time=0.88 sec\n",
      " ARIMA(1,0,1)(0,1,1)[7] intercept   : AIC=inf, Time=2.05 sec\n",
      " ARIMA(0,0,2)(0,1,1)[7] intercept   : AIC=8303.764, Time=1.70 sec\n",
      " ARIMA(0,0,2)(0,1,0)[7] intercept   : AIC=9127.169, Time=0.67 sec\n",
      " ARIMA(0,0,2)(1,1,1)[7] intercept   : AIC=inf, Time=4.52 sec\n",
      " ARIMA(0,0,2)(0,1,2)[7] intercept   : AIC=inf, Time=6.79 sec\n",
      " ARIMA(0,0,2)(1,1,0)[7] intercept   : AIC=8747.495, Time=1.71 sec\n",
      " ARIMA(0,0,2)(1,1,2)[7] intercept   : AIC=inf, Time=9.37 sec\n",
      " ARIMA(1,0,2)(0,1,1)[7] intercept   : AIC=inf, Time=8.78 sec\n",
      " ARIMA(0,0,3)(0,1,1)[7] intercept   : AIC=inf, Time=2.89 sec\n",
      " ARIMA(1,0,3)(0,1,1)[7] intercept   : AIC=inf, Time=7.60 sec\n",
      " ARIMA(0,0,2)(0,1,1)[7]             : AIC=8301.782, Time=0.92 sec\n",
      " ARIMA(0,0,2)(0,1,0)[7]             : AIC=9125.173, Time=0.16 sec\n",
      " ARIMA(0,0,2)(1,1,1)[7]             : AIC=inf, Time=2.97 sec\n",
      " ARIMA(0,0,2)(0,1,2)[7]             : AIC=inf, Time=4.50 sec\n",
      " ARIMA(0,0,2)(1,1,0)[7]             : AIC=8745.502, Time=0.37 sec\n",
      " ARIMA(0,0,2)(1,1,2)[7]             : AIC=inf, Time=7.82 sec\n",
      " ARIMA(0,0,1)(0,1,1)[7]             : AIC=8325.237, Time=0.47 sec\n",
      " ARIMA(1,0,2)(0,1,1)[7]             : AIC=inf, Time=2.06 sec\n",
      " ARIMA(0,0,3)(0,1,1)[7]             : AIC=inf, Time=1.75 sec\n",
      " ARIMA(1,0,1)(0,1,1)[7]             : AIC=inf, Time=1.27 sec\n",
      " ARIMA(1,0,3)(0,1,1)[7]             : AIC=inf, Time=3.21 sec\n",
      "\n",
      "Best model:  ARIMA(0,0,2)(0,1,1)[7]          \n",
      "Total fit time: 90.868 seconds\n"
     ]
    },
    {
     "data": {
      "text/html": [
       "<table class=\"simpletable\">\n",
       "<caption>SARIMAX Results</caption>\n",
       "<tr>\n",
       "  <th>Dep. Variable:</th>                  <td>y</td>                <th>  No. Observations:  </th>   <td>1462</td>   \n",
       "</tr>\n",
       "<tr>\n",
       "  <th>Model:</th>           <td>SARIMAX(0, 0, 2)x(0, 1, [1], 7)</td> <th>  Log Likelihood     </th> <td>-4146.891</td>\n",
       "</tr>\n",
       "<tr>\n",
       "  <th>Date:</th>                   <td>Sun, 12 Mar 2023</td>         <th>  AIC                </th> <td>8301.782</td> \n",
       "</tr>\n",
       "<tr>\n",
       "  <th>Time:</th>                       <td>20:18:42</td>             <th>  BIC                </th> <td>8322.913</td> \n",
       "</tr>\n",
       "<tr>\n",
       "  <th>Sample:</th>                    <td>01-01-2013</td>            <th>  HQIC               </th> <td>8309.666</td> \n",
       "</tr>\n",
       "<tr>\n",
       "  <th></th>                          <td>- 01-01-2017</td>           <th>                     </th>     <td> </td>    \n",
       "</tr>\n",
       "<tr>\n",
       "  <th>Covariance Type:</th>               <td>opg</td>               <th>                     </th>     <td> </td>    \n",
       "</tr>\n",
       "</table>\n",
       "<table class=\"simpletable\">\n",
       "<tr>\n",
       "     <td></td>        <th>coef</th>     <th>std err</th>      <th>z</th>      <th>P>|z|</th>  <th>[0.025</th>    <th>0.975]</th>  \n",
       "</tr>\n",
       "<tr>\n",
       "  <th>ma.L1</th>   <td>    0.4035</td> <td>    0.016</td> <td>   25.251</td> <td> 0.000</td> <td>    0.372</td> <td>    0.435</td>\n",
       "</tr>\n",
       "<tr>\n",
       "  <th>ma.L2</th>   <td>    0.1320</td> <td>    0.025</td> <td>    5.305</td> <td> 0.000</td> <td>    0.083</td> <td>    0.181</td>\n",
       "</tr>\n",
       "<tr>\n",
       "  <th>ma.S.L7</th> <td>   -0.9236</td> <td>    0.010</td> <td>  -91.462</td> <td> 0.000</td> <td>   -0.943</td> <td>   -0.904</td>\n",
       "</tr>\n",
       "<tr>\n",
       "  <th>sigma2</th>  <td>   17.3395</td> <td>    0.294</td> <td>   58.925</td> <td> 0.000</td> <td>   16.763</td> <td>   17.916</td>\n",
       "</tr>\n",
       "</table>\n",
       "<table class=\"simpletable\">\n",
       "<tr>\n",
       "  <th>Ljung-Box (L1) (Q):</th>     <td>0.18</td> <th>  Jarque-Bera (JB):  </th> <td>4742.88</td>\n",
       "</tr>\n",
       "<tr>\n",
       "  <th>Prob(Q):</th>                <td>0.68</td> <th>  Prob(JB):          </th>  <td>0.00</td>  \n",
       "</tr>\n",
       "<tr>\n",
       "  <th>Heteroskedasticity (H):</th> <td>0.61</td> <th>  Skew:              </th>  <td>1.54</td>  \n",
       "</tr>\n",
       "<tr>\n",
       "  <th>Prob(H) (two-sided):</th>    <td>0.00</td> <th>  Kurtosis:          </th>  <td>11.29</td> \n",
       "</tr>\n",
       "</table><br/><br/>Warnings:<br/>[1] Covariance matrix calculated using the outer product of gradients (complex-step)."
      ],
      "text/plain": [
       "<class 'statsmodels.iolib.summary.Summary'>\n",
       "\"\"\"\n",
       "                                      SARIMAX Results                                      \n",
       "===========================================================================================\n",
       "Dep. Variable:                                   y   No. Observations:                 1462\n",
       "Model:             SARIMAX(0, 0, 2)x(0, 1, [1], 7)   Log Likelihood               -4146.891\n",
       "Date:                             Sun, 12 Mar 2023   AIC                           8301.782\n",
       "Time:                                     20:18:42   BIC                           8322.913\n",
       "Sample:                                 01-01-2013   HQIC                          8309.666\n",
       "                                      - 01-01-2017                                         \n",
       "Covariance Type:                               opg                                         \n",
       "==============================================================================\n",
       "                 coef    std err          z      P>|z|      [0.025      0.975]\n",
       "------------------------------------------------------------------------------\n",
       "ma.L1          0.4035      0.016     25.251      0.000       0.372       0.435\n",
       "ma.L2          0.1320      0.025      5.305      0.000       0.083       0.181\n",
       "ma.S.L7       -0.9236      0.010    -91.462      0.000      -0.943      -0.904\n",
       "sigma2        17.3395      0.294     58.925      0.000      16.763      17.916\n",
       "===================================================================================\n",
       "Ljung-Box (L1) (Q):                   0.18   Jarque-Bera (JB):              4742.88\n",
       "Prob(Q):                              0.68   Prob(JB):                         0.00\n",
       "Heteroskedasticity (H):               0.61   Skew:                             1.54\n",
       "Prob(H) (two-sided):                  0.00   Kurtosis:                        11.29\n",
       "===================================================================================\n",
       "\n",
       "Warnings:\n",
       "[1] Covariance matrix calculated using the outer product of gradients (complex-step).\n",
       "\"\"\""
      ]
     },
     "execution_count": 102,
     "metadata": {},
     "output_type": "execute_result"
    }
   ],
   "source": [
    "auto_arima(df[\"wind_speed\"], trace=True, exogenous=exo, m=7, D=1).summary()"
   ]
  },
  {
   "cell_type": "code",
   "execution_count": 105,
   "id": "39e97705",
   "metadata": {},
   "outputs": [],
   "source": [
    "from statsmodels.tsa.statespace.sarimax import SARIMAX"
   ]
  },
  {
   "cell_type": "code",
   "execution_count": 110,
   "id": "3d18377a",
   "metadata": {},
   "outputs": [],
   "source": [
    "Model = SARIMAX(train, exog=exo_train, order=(0, 0, 2), seasonal_order=(0, 1, 1, 7)) "
   ]
  },
  {
   "cell_type": "code",
   "execution_count": 111,
   "id": "f8266c2f",
   "metadata": {},
   "outputs": [],
   "source": [
    "Model = Model.fit() "
   ]
  },
  {
   "cell_type": "code",
   "execution_count": 112,
   "id": "38703cf2",
   "metadata": {},
   "outputs": [],
   "source": [
    "predicted = Model.predict(start=len(train), end=len(train) + len(test)-1, exog=exo_test, type=\"Levels\") "
   ]
  },
  {
   "cell_type": "code",
   "execution_count": 113,
   "id": "ea264cb6",
   "metadata": {},
   "outputs": [
    {
     "data": {
      "text/plain": [
       "2016-01-03    3.538698\n",
       "2016-01-04    3.827586\n",
       "2016-01-05    2.899201\n",
       "2016-01-06    4.033954\n",
       "2016-01-07    2.392785\n",
       "                ...   \n",
       "2016-12-28    5.802175\n",
       "2016-12-29    2.888127\n",
       "2016-12-30    2.643539\n",
       "2016-12-31    3.026119\n",
       "2017-01-01    2.373217\n",
       "Freq: D, Name: predicted_mean, Length: 365, dtype: float64"
      ]
     },
     "execution_count": 113,
     "metadata": {},
     "output_type": "execute_result"
    }
   ],
   "source": [
    "predicted"
   ]
  },
  {
   "cell_type": "code",
   "execution_count": 114,
   "id": "4768de19",
   "metadata": {},
   "outputs": [
    {
     "name": "stderr",
     "output_type": "stream",
     "text": [
      "No artists with labels found to put in legend.  Note that artists whose label start with an underscore are ignored when legend() is called with no argument.\n"
     ]
    },
    {
     "data": {
      "image/png": "[encoded data removed]",
      "text/plain": [
       "<Figure size 432x288 with 1 Axes>"
      ]
     },
     "metadata": {
      "needs_background": "light"
     },
     "output_type": "display_data"
    }
   ],
   "source": [
    "plt.plot(test, color=\"red\")\n",
    "plt.plot(predicted, color=\"blue\")\n",
    "plt.title(\"SARIMAX Model between Actual and Predicted Values for Wind Speed\")\n",
    "plt.xlabel(\"Day\")\n",
    "plt.ylabel(\"Wind Speed\")\n",
    "plt.legend()\n",
    "plt.show()"
   ]
  },
  {
   "cell_type": "code",
   "execution_count": 115,
   "id": "a82bd6b0",
   "metadata": {},
   "outputs": [],
   "source": [
    "import math \n",
    "from sklearn.metrics import mean_squared_error "
   ]
  },
  {
   "cell_type": "code",
   "execution_count": 116,
   "id": "e6861d7d",
   "metadata": {},
   "outputs": [],
   "source": [
    "RMSE = math.sqrt(mean_squared_error(test, predicted))"
   ]
  },
  {
   "cell_type": "code",
   "execution_count": 117,
   "id": "28ea93d1",
   "metadata": {},
   "outputs": [
    {
     "data": {
      "text/plain": [
       "82.31588993776316"
      ]
     },
     "execution_count": 117,
     "metadata": {},
     "output_type": "execute_result"
    }
   ],
   "source": [
    "RMSE"
   ]
  },
  {
   "cell_type": "code",
   "execution_count": 118,
   "id": "b05bc14f",
   "metadata": {},
   "outputs": [],
   "source": [
    "df = pd.read_csv(\"Delhi Climate Data 2013.csv\", index_col=\"date\", parse_dates=True)"
   ]
  },
  {
   "cell_type": "code",
   "execution_count": 119,
   "id": "46d5e82f",
   "metadata": {},
   "outputs": [
    {
     "data": {
      "text/html": [
       "<div>\n",
       "<style scoped>\n",
       "    .dataframe tbody tr th:only-of-type {\n",
       "        vertical-align: middle;\n",
       "    }\n",
       "\n",
       "    .dataframe tbody tr th {\n",
       "        vertical-align: top;\n",
       "    }\n",
       "\n",
       "    .dataframe thead th {\n",
       "        text-align: right;\n",
       "    }\n",
       "</style>\n",
       "<table border=\"1\" class=\"dataframe\">\n",
       "  <thead>\n",
       "    <tr style=\"text-align: right;\">\n",
       "      <th></th>\n",
       "      <th>meantemp</th>\n",
       "      <th>humidity</th>\n",
       "      <th>wind_speed</th>\n",
       "      <th>meanpressure</th>\n",
       "    </tr>\n",
       "    <tr>\n",
       "      <th>date</th>\n",
       "      <th></th>\n",
       "      <th></th>\n",
       "      <th></th>\n",
       "      <th></th>\n",
       "    </tr>\n",
       "  </thead>\n",
       "  <tbody>\n",
       "    <tr>\n",
       "      <th>2013-01-01</th>\n",
       "      <td>10.000000</td>\n",
       "      <td>84.500000</td>\n",
       "      <td>0.000000</td>\n",
       "      <td>1015.666667</td>\n",
       "    </tr>\n",
       "    <tr>\n",
       "      <th>2013-01-02</th>\n",
       "      <td>7.400000</td>\n",
       "      <td>92.000000</td>\n",
       "      <td>2.980000</td>\n",
       "      <td>1017.800000</td>\n",
       "    </tr>\n",
       "    <tr>\n",
       "      <th>2013-01-03</th>\n",
       "      <td>7.166667</td>\n",
       "      <td>87.000000</td>\n",
       "      <td>4.633333</td>\n",
       "      <td>1018.666667</td>\n",
       "    </tr>\n",
       "    <tr>\n",
       "      <th>2013-01-04</th>\n",
       "      <td>8.666667</td>\n",
       "      <td>71.333333</td>\n",
       "      <td>1.233333</td>\n",
       "      <td>1017.166667</td>\n",
       "    </tr>\n",
       "    <tr>\n",
       "      <th>2013-01-05</th>\n",
       "      <td>6.000000</td>\n",
       "      <td>86.833333</td>\n",
       "      <td>3.700000</td>\n",
       "      <td>1016.500000</td>\n",
       "    </tr>\n",
       "    <tr>\n",
       "      <th>...</th>\n",
       "      <td>...</td>\n",
       "      <td>...</td>\n",
       "      <td>...</td>\n",
       "      <td>...</td>\n",
       "    </tr>\n",
       "    <tr>\n",
       "      <th>2016-12-28</th>\n",
       "      <td>17.217391</td>\n",
       "      <td>68.043478</td>\n",
       "      <td>3.547826</td>\n",
       "      <td>1015.565217</td>\n",
       "    </tr>\n",
       "    <tr>\n",
       "      <th>2016-12-29</th>\n",
       "      <td>15.238095</td>\n",
       "      <td>87.857143</td>\n",
       "      <td>6.000000</td>\n",
       "      <td>1016.904762</td>\n",
       "    </tr>\n",
       "    <tr>\n",
       "      <th>2016-12-30</th>\n",
       "      <td>14.095238</td>\n",
       "      <td>89.666667</td>\n",
       "      <td>6.266667</td>\n",
       "      <td>1017.904762</td>\n",
       "    </tr>\n",
       "    <tr>\n",
       "      <th>2016-12-31</th>\n",
       "      <td>15.052632</td>\n",
       "      <td>87.000000</td>\n",
       "      <td>7.325000</td>\n",
       "      <td>1016.100000</td>\n",
       "    </tr>\n",
       "    <tr>\n",
       "      <th>2017-01-01</th>\n",
       "      <td>10.000000</td>\n",
       "      <td>100.000000</td>\n",
       "      <td>0.000000</td>\n",
       "      <td>1016.000000</td>\n",
       "    </tr>\n",
       "  </tbody>\n",
       "</table>\n",
       "<p>1462 rows × 4 columns</p>\n",
       "</div>"
      ],
      "text/plain": [
       "             meantemp    humidity  wind_speed  meanpressure\n",
       "date                                                       \n",
       "2013-01-01  10.000000   84.500000    0.000000   1015.666667\n",
       "2013-01-02   7.400000   92.000000    2.980000   1017.800000\n",
       "2013-01-03   7.166667   87.000000    4.633333   1018.666667\n",
       "2013-01-04   8.666667   71.333333    1.233333   1017.166667\n",
       "2013-01-05   6.000000   86.833333    3.700000   1016.500000\n",
       "...               ...         ...         ...           ...\n",
       "2016-12-28  17.217391   68.043478    3.547826   1015.565217\n",
       "2016-12-29  15.238095   87.857143    6.000000   1016.904762\n",
       "2016-12-30  14.095238   89.666667    6.266667   1017.904762\n",
       "2016-12-31  15.052632   87.000000    7.325000   1016.100000\n",
       "2017-01-01  10.000000  100.000000    0.000000   1016.000000\n",
       "\n",
       "[1462 rows x 4 columns]"
      ]
     },
     "execution_count": 119,
     "metadata": {},
     "output_type": "execute_result"
    }
   ],
   "source": [
    "df"
   ]
  },
  {
   "cell_type": "code",
   "execution_count": 120,
   "id": "9e84e354",
   "metadata": {},
   "outputs": [],
   "source": [
    "df.index.freq=\"D\" "
   ]
  },
  {
   "cell_type": "code",
   "execution_count": 122,
   "id": "f1a11f4f",
   "metadata": {},
   "outputs": [],
   "source": [
    "df = df.dropna()"
   ]
  },
  {
   "cell_type": "code",
   "execution_count": 123,
   "id": "badc9711",
   "metadata": {},
   "outputs": [],
   "source": [
    "df = df[[\"meanpressure\", \"meantemp\", \"humidity\", \"wind_speed\"]] "
   ]
  },
  {
   "cell_type": "code",
   "execution_count": 124,
   "id": "d7309308",
   "metadata": {},
   "outputs": [
    {
     "data": {
      "text/html": [
       "<div>\n",
       "<style scoped>\n",
       "    .dataframe tbody tr th:only-of-type {\n",
       "        vertical-align: middle;\n",
       "    }\n",
       "\n",
       "    .dataframe tbody tr th {\n",
       "        vertical-align: top;\n",
       "    }\n",
       "\n",
       "    .dataframe thead th {\n",
       "        text-align: right;\n",
       "    }\n",
       "</style>\n",
       "<table border=\"1\" class=\"dataframe\">\n",
       "  <thead>\n",
       "    <tr style=\"text-align: right;\">\n",
       "      <th></th>\n",
       "      <th>meanpressure</th>\n",
       "      <th>meantemp</th>\n",
       "      <th>humidity</th>\n",
       "      <th>wind_speed</th>\n",
       "    </tr>\n",
       "    <tr>\n",
       "      <th>date</th>\n",
       "      <th></th>\n",
       "      <th></th>\n",
       "      <th></th>\n",
       "      <th></th>\n",
       "    </tr>\n",
       "  </thead>\n",
       "  <tbody>\n",
       "    <tr>\n",
       "      <th>2013-01-01</th>\n",
       "      <td>1015.666667</td>\n",
       "      <td>10.000000</td>\n",
       "      <td>84.500000</td>\n",
       "      <td>0.000000</td>\n",
       "    </tr>\n",
       "    <tr>\n",
       "      <th>2013-01-02</th>\n",
       "      <td>1017.800000</td>\n",
       "      <td>7.400000</td>\n",
       "      <td>92.000000</td>\n",
       "      <td>2.980000</td>\n",
       "    </tr>\n",
       "    <tr>\n",
       "      <th>2013-01-03</th>\n",
       "      <td>1018.666667</td>\n",
       "      <td>7.166667</td>\n",
       "      <td>87.000000</td>\n",
       "      <td>4.633333</td>\n",
       "    </tr>\n",
       "    <tr>\n",
       "      <th>2013-01-04</th>\n",
       "      <td>1017.166667</td>\n",
       "      <td>8.666667</td>\n",
       "      <td>71.333333</td>\n",
       "      <td>1.233333</td>\n",
       "    </tr>\n",
       "    <tr>\n",
       "      <th>2013-01-05</th>\n",
       "      <td>1016.500000</td>\n",
       "      <td>6.000000</td>\n",
       "      <td>86.833333</td>\n",
       "      <td>3.700000</td>\n",
       "    </tr>\n",
       "    <tr>\n",
       "      <th>...</th>\n",
       "      <td>...</td>\n",
       "      <td>...</td>\n",
       "      <td>...</td>\n",
       "      <td>...</td>\n",
       "    </tr>\n",
       "    <tr>\n",
       "      <th>2016-12-28</th>\n",
       "      <td>1015.565217</td>\n",
       "      <td>17.217391</td>\n",
       "      <td>68.043478</td>\n",
       "      <td>3.547826</td>\n",
       "    </tr>\n",
       "    <tr>\n",
       "      <th>2016-12-29</th>\n",
       "      <td>1016.904762</td>\n",
       "      <td>15.238095</td>\n",
       "      <td>87.857143</td>\n",
       "      <td>6.000000</td>\n",
       "    </tr>\n",
       "    <tr>\n",
       "      <th>2016-12-30</th>\n",
       "      <td>1017.904762</td>\n",
       "      <td>14.095238</td>\n",
       "      <td>89.666667</td>\n",
       "      <td>6.266667</td>\n",
       "    </tr>\n",
       "    <tr>\n",
       "      <th>2016-12-31</th>\n",
       "      <td>1016.100000</td>\n",
       "      <td>15.052632</td>\n",
       "      <td>87.000000</td>\n",
       "      <td>7.325000</td>\n",
       "    </tr>\n",
       "    <tr>\n",
       "      <th>2017-01-01</th>\n",
       "      <td>1016.000000</td>\n",
       "      <td>10.000000</td>\n",
       "      <td>100.000000</td>\n",
       "      <td>0.000000</td>\n",
       "    </tr>\n",
       "  </tbody>\n",
       "</table>\n",
       "<p>1462 rows × 4 columns</p>\n",
       "</div>"
      ],
      "text/plain": [
       "            meanpressure   meantemp    humidity  wind_speed\n",
       "date                                                       \n",
       "2013-01-01   1015.666667  10.000000   84.500000    0.000000\n",
       "2013-01-02   1017.800000   7.400000   92.000000    2.980000\n",
       "2013-01-03   1018.666667   7.166667   87.000000    4.633333\n",
       "2013-01-04   1017.166667   8.666667   71.333333    1.233333\n",
       "2013-01-05   1016.500000   6.000000   86.833333    3.700000\n",
       "...                  ...        ...         ...         ...\n",
       "2016-12-28   1015.565217  17.217391   68.043478    3.547826\n",
       "2016-12-29   1016.904762  15.238095   87.857143    6.000000\n",
       "2016-12-30   1017.904762  14.095238   89.666667    6.266667\n",
       "2016-12-31   1016.100000  15.052632   87.000000    7.325000\n",
       "2017-01-01   1016.000000  10.000000  100.000000    0.000000\n",
       "\n",
       "[1462 rows x 4 columns]"
      ]
     },
     "execution_count": 124,
     "metadata": {},
     "output_type": "execute_result"
    }
   ],
   "source": [
    "df"
   ]
  },
  {
   "cell_type": "code",
   "execution_count": 125,
   "id": "4ad0810a",
   "metadata": {},
   "outputs": [
    {
     "data": {
      "text/plain": [
       "<AxesSubplot:>"
      ]
     },
     "execution_count": 125,
     "metadata": {},
     "output_type": "execute_result"
    },
    {
     "data": {
      "image/png": "[encoded data removed]",
      "text/plain": [
       "<Figure size 432x288 with 2 Axes>"
      ]
     },
     "metadata": {
      "needs_background": "light"
     },
     "output_type": "display_data"
    }
   ],
   "source": [
    "sns.heatmap(df.corr())"
   ]
  },
  {
   "cell_type": "code",
   "execution_count": 126,
   "id": "e7571932",
   "metadata": {},
   "outputs": [],
   "source": [
    "train = df.iloc[:1097, 0]\n",
    "test = df.iloc[1097:, 0] "
   ]
  },
  {
   "cell_type": "code",
   "execution_count": 127,
   "id": "58b53b28",
   "metadata": {},
   "outputs": [
    {
     "data": {
      "text/plain": [
       "date\n",
       "2013-01-01    1015.666667\n",
       "2013-01-02    1017.800000\n",
       "2013-01-03    1018.666667\n",
       "2013-01-04    1017.166667\n",
       "2013-01-05    1016.500000\n",
       "                 ...     \n",
       "2015-12-29    1018.125000\n",
       "2015-12-30    1017.500000\n",
       "2015-12-31    1020.500000\n",
       "2016-01-01    1021.142857\n",
       "2016-01-02    1021.000000\n",
       "Freq: D, Name: meanpressure, Length: 1097, dtype: float64"
      ]
     },
     "execution_count": 127,
     "metadata": {},
     "output_type": "execute_result"
    }
   ],
   "source": [
    "train"
   ]
  },
  {
   "cell_type": "code",
   "execution_count": 128,
   "id": "d1b664b8",
   "metadata": {},
   "outputs": [
    {
     "data": {
      "text/plain": [
       "date\n",
       "2016-01-03    1018.500000\n",
       "2016-01-04    1017.625000\n",
       "2016-01-05    1017.000000\n",
       "2016-01-06    1016.500000\n",
       "2016-01-07    1018.125000\n",
       "                 ...     \n",
       "2016-12-28    1015.565217\n",
       "2016-12-29    1016.904762\n",
       "2016-12-30    1017.904762\n",
       "2016-12-31    1016.100000\n",
       "2017-01-01    1016.000000\n",
       "Freq: D, Name: meanpressure, Length: 365, dtype: float64"
      ]
     },
     "execution_count": 128,
     "metadata": {},
     "output_type": "execute_result"
    }
   ],
   "source": [
    "test"
   ]
  },
  {
   "cell_type": "code",
   "execution_count": 129,
   "id": "df11aee8",
   "metadata": {},
   "outputs": [],
   "source": [
    "exo = df.iloc[:, 1:4]"
   ]
  },
  {
   "cell_type": "code",
   "execution_count": 133,
   "id": "3cadccdc",
   "metadata": {},
   "outputs": [
    {
     "data": {
      "text/html": [
       "<div>\n",
       "<style scoped>\n",
       "    .dataframe tbody tr th:only-of-type {\n",
       "        vertical-align: middle;\n",
       "    }\n",
       "\n",
       "    .dataframe tbody tr th {\n",
       "        vertical-align: top;\n",
       "    }\n",
       "\n",
       "    .dataframe thead th {\n",
       "        text-align: right;\n",
       "    }\n",
       "</style>\n",
       "<table border=\"1\" class=\"dataframe\">\n",
       "  <thead>\n",
       "    <tr style=\"text-align: right;\">\n",
       "      <th></th>\n",
       "      <th>meantemp</th>\n",
       "      <th>humidity</th>\n",
       "      <th>wind_speed</th>\n",
       "    </tr>\n",
       "    <tr>\n",
       "      <th>date</th>\n",
       "      <th></th>\n",
       "      <th></th>\n",
       "      <th></th>\n",
       "    </tr>\n",
       "  </thead>\n",
       "  <tbody>\n",
       "    <tr>\n",
       "      <th>2013-01-01</th>\n",
       "      <td>10.000000</td>\n",
       "      <td>84.500000</td>\n",
       "      <td>0.000000</td>\n",
       "    </tr>\n",
       "    <tr>\n",
       "      <th>2013-01-02</th>\n",
       "      <td>7.400000</td>\n",
       "      <td>92.000000</td>\n",
       "      <td>2.980000</td>\n",
       "    </tr>\n",
       "    <tr>\n",
       "      <th>2013-01-03</th>\n",
       "      <td>7.166667</td>\n",
       "      <td>87.000000</td>\n",
       "      <td>4.633333</td>\n",
       "    </tr>\n",
       "    <tr>\n",
       "      <th>2013-01-04</th>\n",
       "      <td>8.666667</td>\n",
       "      <td>71.333333</td>\n",
       "      <td>1.233333</td>\n",
       "    </tr>\n",
       "    <tr>\n",
       "      <th>2013-01-05</th>\n",
       "      <td>6.000000</td>\n",
       "      <td>86.833333</td>\n",
       "      <td>3.700000</td>\n",
       "    </tr>\n",
       "    <tr>\n",
       "      <th>...</th>\n",
       "      <td>...</td>\n",
       "      <td>...</td>\n",
       "      <td>...</td>\n",
       "    </tr>\n",
       "    <tr>\n",
       "      <th>2016-12-28</th>\n",
       "      <td>17.217391</td>\n",
       "      <td>68.043478</td>\n",
       "      <td>3.547826</td>\n",
       "    </tr>\n",
       "    <tr>\n",
       "      <th>2016-12-29</th>\n",
       "      <td>15.238095</td>\n",
       "      <td>87.857143</td>\n",
       "      <td>6.000000</td>\n",
       "    </tr>\n",
       "    <tr>\n",
       "      <th>2016-12-30</th>\n",
       "      <td>14.095238</td>\n",
       "      <td>89.666667</td>\n",
       "      <td>6.266667</td>\n",
       "    </tr>\n",
       "    <tr>\n",
       "      <th>2016-12-31</th>\n",
       "      <td>15.052632</td>\n",
       "      <td>87.000000</td>\n",
       "      <td>7.325000</td>\n",
       "    </tr>\n",
       "    <tr>\n",
       "      <th>2017-01-01</th>\n",
       "      <td>10.000000</td>\n",
       "      <td>100.000000</td>\n",
       "      <td>0.000000</td>\n",
       "    </tr>\n",
       "  </tbody>\n",
       "</table>\n",
       "<p>1462 rows × 3 columns</p>\n",
       "</div>"
      ],
      "text/plain": [
       "             meantemp    humidity  wind_speed\n",
       "date                                         \n",
       "2013-01-01  10.000000   84.500000    0.000000\n",
       "2013-01-02   7.400000   92.000000    2.980000\n",
       "2013-01-03   7.166667   87.000000    4.633333\n",
       "2013-01-04   8.666667   71.333333    1.233333\n",
       "2013-01-05   6.000000   86.833333    3.700000\n",
       "...               ...         ...         ...\n",
       "2016-12-28  17.217391   68.043478    3.547826\n",
       "2016-12-29  15.238095   87.857143    6.000000\n",
       "2016-12-30  14.095238   89.666667    6.266667\n",
       "2016-12-31  15.052632   87.000000    7.325000\n",
       "2017-01-01  10.000000  100.000000    0.000000\n",
       "\n",
       "[1462 rows x 3 columns]"
      ]
     },
     "execution_count": 133,
     "metadata": {},
     "output_type": "execute_result"
    }
   ],
   "source": [
    "exo"
   ]
  },
  {
   "cell_type": "code",
   "execution_count": 130,
   "id": "b6322f5e",
   "metadata": {},
   "outputs": [],
   "source": [
    "exo_train = df.iloc[:1097, 1:4]\n",
    "exo_test = df.iloc[1097:, 1:4] "
   ]
  },
  {
   "cell_type": "code",
   "execution_count": 131,
   "id": "0f347fbb",
   "metadata": {},
   "outputs": [
    {
     "data": {
      "text/html": [
       "<div>\n",
       "<style scoped>\n",
       "    .dataframe tbody tr th:only-of-type {\n",
       "        vertical-align: middle;\n",
       "    }\n",
       "\n",
       "    .dataframe tbody tr th {\n",
       "        vertical-align: top;\n",
       "    }\n",
       "\n",
       "    .dataframe thead th {\n",
       "        text-align: right;\n",
       "    }\n",
       "</style>\n",
       "<table border=\"1\" class=\"dataframe\">\n",
       "  <thead>\n",
       "    <tr style=\"text-align: right;\">\n",
       "      <th></th>\n",
       "      <th>meantemp</th>\n",
       "      <th>humidity</th>\n",
       "      <th>wind_speed</th>\n",
       "    </tr>\n",
       "    <tr>\n",
       "      <th>date</th>\n",
       "      <th></th>\n",
       "      <th></th>\n",
       "      <th></th>\n",
       "    </tr>\n",
       "  </thead>\n",
       "  <tbody>\n",
       "    <tr>\n",
       "      <th>2013-01-01</th>\n",
       "      <td>10.000000</td>\n",
       "      <td>84.500000</td>\n",
       "      <td>0.000000</td>\n",
       "    </tr>\n",
       "    <tr>\n",
       "      <th>2013-01-02</th>\n",
       "      <td>7.400000</td>\n",
       "      <td>92.000000</td>\n",
       "      <td>2.980000</td>\n",
       "    </tr>\n",
       "    <tr>\n",
       "      <th>2013-01-03</th>\n",
       "      <td>7.166667</td>\n",
       "      <td>87.000000</td>\n",
       "      <td>4.633333</td>\n",
       "    </tr>\n",
       "    <tr>\n",
       "      <th>2013-01-04</th>\n",
       "      <td>8.666667</td>\n",
       "      <td>71.333333</td>\n",
       "      <td>1.233333</td>\n",
       "    </tr>\n",
       "    <tr>\n",
       "      <th>2013-01-05</th>\n",
       "      <td>6.000000</td>\n",
       "      <td>86.833333</td>\n",
       "      <td>3.700000</td>\n",
       "    </tr>\n",
       "    <tr>\n",
       "      <th>...</th>\n",
       "      <td>...</td>\n",
       "      <td>...</td>\n",
       "      <td>...</td>\n",
       "    </tr>\n",
       "    <tr>\n",
       "      <th>2015-12-29</th>\n",
       "      <td>16.375000</td>\n",
       "      <td>65.000000</td>\n",
       "      <td>7.412500</td>\n",
       "    </tr>\n",
       "    <tr>\n",
       "      <th>2015-12-30</th>\n",
       "      <td>15.500000</td>\n",
       "      <td>71.750000</td>\n",
       "      <td>2.100000</td>\n",
       "    </tr>\n",
       "    <tr>\n",
       "      <th>2015-12-31</th>\n",
       "      <td>15.000000</td>\n",
       "      <td>71.375000</td>\n",
       "      <td>2.087500</td>\n",
       "    </tr>\n",
       "    <tr>\n",
       "      <th>2016-01-01</th>\n",
       "      <td>14.714286</td>\n",
       "      <td>72.285714</td>\n",
       "      <td>1.057143</td>\n",
       "    </tr>\n",
       "    <tr>\n",
       "      <th>2016-01-02</th>\n",
       "      <td>14.000000</td>\n",
       "      <td>75.875000</td>\n",
       "      <td>2.087500</td>\n",
       "    </tr>\n",
       "  </tbody>\n",
       "</table>\n",
       "<p>1097 rows × 3 columns</p>\n",
       "</div>"
      ],
      "text/plain": [
       "             meantemp   humidity  wind_speed\n",
       "date                                        \n",
       "2013-01-01  10.000000  84.500000    0.000000\n",
       "2013-01-02   7.400000  92.000000    2.980000\n",
       "2013-01-03   7.166667  87.000000    4.633333\n",
       "2013-01-04   8.666667  71.333333    1.233333\n",
       "2013-01-05   6.000000  86.833333    3.700000\n",
       "...               ...        ...         ...\n",
       "2015-12-29  16.375000  65.000000    7.412500\n",
       "2015-12-30  15.500000  71.750000    2.100000\n",
       "2015-12-31  15.000000  71.375000    2.087500\n",
       "2016-01-01  14.714286  72.285714    1.057143\n",
       "2016-01-02  14.000000  75.875000    2.087500\n",
       "\n",
       "[1097 rows x 3 columns]"
      ]
     },
     "execution_count": 131,
     "metadata": {},
     "output_type": "execute_result"
    }
   ],
   "source": [
    "exo_train"
   ]
  },
  {
   "cell_type": "code",
   "execution_count": 132,
   "id": "277443fe",
   "metadata": {},
   "outputs": [
    {
     "data": {
      "text/html": [
       "<div>\n",
       "<style scoped>\n",
       "    .dataframe tbody tr th:only-of-type {\n",
       "        vertical-align: middle;\n",
       "    }\n",
       "\n",
       "    .dataframe tbody tr th {\n",
       "        vertical-align: top;\n",
       "    }\n",
       "\n",
       "    .dataframe thead th {\n",
       "        text-align: right;\n",
       "    }\n",
       "</style>\n",
       "<table border=\"1\" class=\"dataframe\">\n",
       "  <thead>\n",
       "    <tr style=\"text-align: right;\">\n",
       "      <th></th>\n",
       "      <th>meantemp</th>\n",
       "      <th>humidity</th>\n",
       "      <th>wind_speed</th>\n",
       "    </tr>\n",
       "    <tr>\n",
       "      <th>date</th>\n",
       "      <th></th>\n",
       "      <th></th>\n",
       "      <th></th>\n",
       "    </tr>\n",
       "  </thead>\n",
       "  <tbody>\n",
       "    <tr>\n",
       "      <th>2016-01-03</th>\n",
       "      <td>14.375000</td>\n",
       "      <td>74.750000</td>\n",
       "      <td>5.112500</td>\n",
       "    </tr>\n",
       "    <tr>\n",
       "      <th>2016-01-04</th>\n",
       "      <td>15.750000</td>\n",
       "      <td>77.125000</td>\n",
       "      <td>0.000000</td>\n",
       "    </tr>\n",
       "    <tr>\n",
       "      <th>2016-01-05</th>\n",
       "      <td>15.833333</td>\n",
       "      <td>88.833333</td>\n",
       "      <td>0.616667</td>\n",
       "    </tr>\n",
       "    <tr>\n",
       "      <th>2016-01-06</th>\n",
       "      <td>17.375000</td>\n",
       "      <td>81.625000</td>\n",
       "      <td>2.312500</td>\n",
       "    </tr>\n",
       "    <tr>\n",
       "      <th>2016-01-07</th>\n",
       "      <td>17.125000</td>\n",
       "      <td>87.000000</td>\n",
       "      <td>0.000000</td>\n",
       "    </tr>\n",
       "    <tr>\n",
       "      <th>...</th>\n",
       "      <td>...</td>\n",
       "      <td>...</td>\n",
       "      <td>...</td>\n",
       "    </tr>\n",
       "    <tr>\n",
       "      <th>2016-12-28</th>\n",
       "      <td>17.217391</td>\n",
       "      <td>68.043478</td>\n",
       "      <td>3.547826</td>\n",
       "    </tr>\n",
       "    <tr>\n",
       "      <th>2016-12-29</th>\n",
       "      <td>15.238095</td>\n",
       "      <td>87.857143</td>\n",
       "      <td>6.000000</td>\n",
       "    </tr>\n",
       "    <tr>\n",
       "      <th>2016-12-30</th>\n",
       "      <td>14.095238</td>\n",
       "      <td>89.666667</td>\n",
       "      <td>6.266667</td>\n",
       "    </tr>\n",
       "    <tr>\n",
       "      <th>2016-12-31</th>\n",
       "      <td>15.052632</td>\n",
       "      <td>87.000000</td>\n",
       "      <td>7.325000</td>\n",
       "    </tr>\n",
       "    <tr>\n",
       "      <th>2017-01-01</th>\n",
       "      <td>10.000000</td>\n",
       "      <td>100.000000</td>\n",
       "      <td>0.000000</td>\n",
       "    </tr>\n",
       "  </tbody>\n",
       "</table>\n",
       "<p>365 rows × 3 columns</p>\n",
       "</div>"
      ],
      "text/plain": [
       "             meantemp    humidity  wind_speed\n",
       "date                                         \n",
       "2016-01-03  14.375000   74.750000    5.112500\n",
       "2016-01-04  15.750000   77.125000    0.000000\n",
       "2016-01-05  15.833333   88.833333    0.616667\n",
       "2016-01-06  17.375000   81.625000    2.312500\n",
       "2016-01-07  17.125000   87.000000    0.000000\n",
       "...               ...         ...         ...\n",
       "2016-12-28  17.217391   68.043478    3.547826\n",
       "2016-12-29  15.238095   87.857143    6.000000\n",
       "2016-12-30  14.095238   89.666667    6.266667\n",
       "2016-12-31  15.052632   87.000000    7.325000\n",
       "2017-01-01  10.000000  100.000000    0.000000\n",
       "\n",
       "[365 rows x 3 columns]"
      ]
     },
     "execution_count": 132,
     "metadata": {},
     "output_type": "execute_result"
    }
   ],
   "source": [
    "exo_test "
   ]
  },
  {
   "cell_type": "code",
   "execution_count": 134,
   "id": "a57fdc63",
   "metadata": {},
   "outputs": [],
   "source": [
    "from statsmodels.tsa.seasonal import seasonal_decompose"
   ]
  },
  {
   "cell_type": "code",
   "execution_count": 135,
   "id": "5cc8d873",
   "metadata": {},
   "outputs": [],
   "source": [
    "Seasonal_Results = seasonal_decompose(df[\"meanpressure\"])"
   ]
  },
  {
   "cell_type": "code",
   "execution_count": 136,
   "id": "7f8061ad",
   "metadata": {},
   "outputs": [
    {
     "data": {
      "image/png": "[encoded data removed]",
      "text/plain": [
       "<Figure size 432x288 with 4 Axes>"
      ]
     },
     "execution_count": 136,
     "metadata": {},
     "output_type": "execute_result"
    },
    {
     "data": {
      "image/png": "[encoded data removed]",
      "text/plain": [
       "<Figure size 432x288 with 4 Axes>"
      ]
     },
     "metadata": {
      "needs_background": "light"
     },
     "output_type": "display_data"
    }
   ],
   "source": [
    "Seasonal_Results.plot()"
   ]
  },
  {
   "cell_type": "code",
   "execution_count": 137,
   "id": "9be77327",
   "metadata": {},
   "outputs": [
    {
     "data": {
      "text/plain": [
       "<AxesSubplot:xlabel='date'>"
      ]
     },
     "execution_count": 137,
     "metadata": {},
     "output_type": "execute_result"
    },
    {
     "data": {
      "image/png": "[encoded data removed]",
      "text/plain": [
       "<Figure size 432x288 with 1 Axes>"
      ]
     },
     "metadata": {
      "needs_background": "light"
     },
     "output_type": "display_data"
    }
   ],
   "source": [
    "Seasonal_Results.trend.plot()"
   ]
  },
  {
   "cell_type": "code",
   "execution_count": 139,
   "id": "e61047a2",
   "metadata": {},
   "outputs": [
    {
     "data": {
      "text/plain": [
       "<AxesSubplot:xlabel='date'>"
      ]
     },
     "execution_count": 139,
     "metadata": {},
     "output_type": "execute_result"
    },
    {
     "data": {
      "image/png": "[encoded data removed]",
      "text/plain": [
       "<Figure size 432x288 with 1 Axes>"
      ]
     },
     "metadata": {
      "needs_background": "light"
     },
     "output_type": "display_data"
    }
   ],
   "source": [
    "Seasonal_Results.resid.plot()"
   ]
  },
  {
   "cell_type": "code",
   "execution_count": 140,
   "id": "abf38d9e",
   "metadata": {},
   "outputs": [
    {
     "data": {
      "text/plain": [
       "<AxesSubplot:xlabel='date'>"
      ]
     },
     "execution_count": 140,
     "metadata": {},
     "output_type": "execute_result"
    },
    {
     "data": {
      "image/png": "[encoded data removed]",
      "text/plain": [
       "<Figure size 432x288 with 1 Axes>"
      ]
     },
     "metadata": {
      "needs_background": "light"
     },
     "output_type": "display_data"
    }
   ],
   "source": [
    "Seasonal_Results.seasonal.plot()"
   ]
  },
  {
   "cell_type": "code",
   "execution_count": 142,
   "id": "d628182b",
   "metadata": {},
   "outputs": [],
   "source": [
    "from pmdarima import auto_arima"
   ]
  },
  {
   "cell_type": "code",
   "execution_count": 143,
   "id": "3fd6a462",
   "metadata": {},
   "outputs": [
    {
     "name": "stdout",
     "output_type": "stream",
     "text": [
      "Performing stepwise search to minimize aic\n",
      " ARIMA(2,0,2)(1,1,1)[7] intercept   : AIC=inf, Time=4.04 sec\n",
      " ARIMA(0,0,0)(0,1,0)[7] intercept   : AIC=20260.106, Time=0.11 sec\n",
      " ARIMA(1,0,0)(1,1,0)[7] intercept   : AIC=19832.446, Time=1.72 sec\n",
      " ARIMA(0,0,1)(0,1,1)[7] intercept   : AIC=inf, Time=1.42 sec\n",
      " ARIMA(0,0,0)(0,1,0)[7]             : AIC=20258.106, Time=0.07 sec\n",
      " ARIMA(1,0,0)(0,1,0)[7] intercept   : AIC=20262.104, Time=0.12 sec\n",
      " ARIMA(1,0,0)(2,1,0)[7] intercept   : AIC=19671.920, Time=3.84 sec\n",
      " ARIMA(1,0,0)(2,1,1)[7] intercept   : AIC=inf, Time=5.08 sec\n",
      " ARIMA(1,0,0)(1,1,1)[7] intercept   : AIC=inf, Time=2.27 sec\n",
      " ARIMA(0,0,0)(2,1,0)[7] intercept   : AIC=19669.922, Time=20.56 sec\n",
      " ARIMA(0,0,0)(1,1,0)[7] intercept   : AIC=19830.447, Time=4.38 sec\n",
      " ARIMA(0,0,0)(2,1,1)[7] intercept   : AIC=inf, Time=3.58 sec\n",
      " ARIMA(0,0,0)(1,1,1)[7] intercept   : AIC=inf, Time=1.32 sec\n",
      " ARIMA(0,0,1)(2,1,0)[7] intercept   : AIC=19671.920, Time=3.52 sec\n",
      " ARIMA(1,0,1)(2,1,0)[7] intercept   : AIC=19673.903, Time=5.56 sec\n",
      " ARIMA(0,0,0)(2,1,0)[7]             : AIC=19667.990, Time=0.28 sec\n",
      " ARIMA(0,0,0)(1,1,0)[7]             : AIC=19828.464, Time=0.15 sec\n",
      " ARIMA(0,0,0)(2,1,1)[7]             : AIC=inf, Time=2.19 sec\n",
      " ARIMA(0,0,0)(1,1,1)[7]             : AIC=inf, Time=0.96 sec\n",
      " ARIMA(1,0,0)(2,1,0)[7]             : AIC=19669.921, Time=0.88 sec\n",
      " ARIMA(0,0,1)(2,1,0)[7]             : AIC=19669.921, Time=0.86 sec\n",
      " ARIMA(1,0,1)(2,1,0)[7]             : AIC=19671.903, Time=1.07 sec\n",
      "\n",
      "Best model:  ARIMA(0,0,0)(2,1,0)[7]          \n",
      "Total fit time: 64.006 seconds\n"
     ]
    },
    {
     "data": {
      "text/html": [
       "<table class=\"simpletable\">\n",
       "<caption>SARIMAX Results</caption>\n",
       "<tr>\n",
       "  <th>Dep. Variable:</th>            <td>y</td>          <th>  No. Observations:  </th>   <td>1462</td>   \n",
       "</tr>\n",
       "<tr>\n",
       "  <th>Model:</th>           <td>SARIMAX(2, 1, 0, 7)</td> <th>  Log Likelihood     </th> <td>-9830.995</td>\n",
       "</tr>\n",
       "<tr>\n",
       "  <th>Date:</th>             <td>Sun, 12 Mar 2023</td>   <th>  AIC                </th> <td>19667.990</td>\n",
       "</tr>\n",
       "<tr>\n",
       "  <th>Time:</th>                 <td>20:45:38</td>       <th>  BIC                </th> <td>19683.838</td>\n",
       "</tr>\n",
       "<tr>\n",
       "  <th>Sample:</th>              <td>01-01-2013</td>      <th>  HQIC               </th> <td>19673.903</td>\n",
       "</tr>\n",
       "<tr>\n",
       "  <th></th>                    <td>- 01-01-2017</td>     <th>                     </th>     <td> </td>    \n",
       "</tr>\n",
       "<tr>\n",
       "  <th>Covariance Type:</th>         <td>opg</td>         <th>                     </th>     <td> </td>    \n",
       "</tr>\n",
       "</table>\n",
       "<table class=\"simpletable\">\n",
       "<tr>\n",
       "      <td></td>        <th>coef</th>     <th>std err</th>      <th>z</th>      <th>P>|z|</th>  <th>[0.025</th>    <th>0.975]</th>  \n",
       "</tr>\n",
       "<tr>\n",
       "  <th>ar.S.L7</th>  <td>   -0.6703</td> <td>    0.002</td> <td> -278.202</td> <td> 0.000</td> <td>   -0.675</td> <td>   -0.666</td>\n",
       "</tr>\n",
       "<tr>\n",
       "  <th>ar.S.L14</th> <td>   -0.3234</td> <td>    0.002</td> <td> -132.979</td> <td> 0.000</td> <td>   -0.328</td> <td>   -0.319</td>\n",
       "</tr>\n",
       "<tr>\n",
       "  <th>sigma2</th>   <td> 4.359e+04</td> <td>   83.982</td> <td>  519.067</td> <td> 0.000</td> <td> 4.34e+04</td> <td> 4.38e+04</td>\n",
       "</tr>\n",
       "</table>\n",
       "<table class=\"simpletable\">\n",
       "<tr>\n",
       "  <th>Ljung-Box (L1) (Q):</th>      <td>0.00</td>   <th>  Jarque-Bera (JB):  </th> <td>34481221.62</td>\n",
       "</tr>\n",
       "<tr>\n",
       "  <th>Prob(Q):</th>                 <td>0.96</td>   <th>  Prob(JB):          </th>    <td>0.00</td>    \n",
       "</tr>\n",
       "<tr>\n",
       "  <th>Heteroskedasticity (H):</th> <td>5667.57</td> <th>  Skew:              </th>    <td>20.05</td>   \n",
       "</tr>\n",
       "<tr>\n",
       "  <th>Prob(H) (two-sided):</th>     <td>0.00</td>   <th>  Kurtosis:          </th>   <td>756.10</td>   \n",
       "</tr>\n",
       "</table><br/><br/>Warnings:<br/>[1] Covariance matrix calculated using the outer product of gradients (complex-step)."
      ],
      "text/plain": [
       "<class 'statsmodels.iolib.summary.Summary'>\n",
       "\"\"\"\n",
       "                                SARIMAX Results                                \n",
       "===============================================================================\n",
       "Dep. Variable:                       y   No. Observations:                 1462\n",
       "Model:             SARIMAX(2, 1, 0, 7)   Log Likelihood               -9830.995\n",
       "Date:                 Sun, 12 Mar 2023   AIC                          19667.990\n",
       "Time:                         20:45:38   BIC                          19683.838\n",
       "Sample:                     01-01-2013   HQIC                         19673.903\n",
       "                          - 01-01-2017                                         \n",
       "Covariance Type:                   opg                                         \n",
       "==============================================================================\n",
       "                 coef    std err          z      P>|z|      [0.025      0.975]\n",
       "------------------------------------------------------------------------------\n",
       "ar.S.L7       -0.6703      0.002   -278.202      0.000      -0.675      -0.666\n",
       "ar.S.L14      -0.3234      0.002   -132.979      0.000      -0.328      -0.319\n",
       "sigma2      4.359e+04     83.982    519.067      0.000    4.34e+04    4.38e+04\n",
       "===================================================================================\n",
       "Ljung-Box (L1) (Q):                   0.00   Jarque-Bera (JB):          34481221.62\n",
       "Prob(Q):                              0.96   Prob(JB):                         0.00\n",
       "Heteroskedasticity (H):            5667.57   Skew:                            20.05\n",
       "Prob(H) (two-sided):                  0.00   Kurtosis:                       756.10\n",
       "===================================================================================\n",
       "\n",
       "Warnings:\n",
       "[1] Covariance matrix calculated using the outer product of gradients (complex-step).\n",
       "\"\"\""
      ]
     },
     "execution_count": 143,
     "metadata": {},
     "output_type": "execute_result"
    }
   ],
   "source": [
    "auto_arima(df[\"meanpressure\"], trace=True, exogenous=exo, m=7, D=1).summary() "
   ]
  },
  {
   "cell_type": "code",
   "execution_count": 144,
   "id": "d6308370",
   "metadata": {},
   "outputs": [],
   "source": [
    "from statsmodels.tsa.statespace.sarimax import SARIMAX"
   ]
  },
  {
   "cell_type": "code",
   "execution_count": 146,
   "id": "a3d8bc17",
   "metadata": {},
   "outputs": [],
   "source": [
    "Model = SARIMAX(train, exog=exo_train, order=(0,0,0), seasonal_order=(2,1,0,7)) "
   ]
  },
  {
   "cell_type": "code",
   "execution_count": 148,
   "id": "d837bc91",
   "metadata": {},
   "outputs": [],
   "source": [
    "Model = Model.fit()"
   ]
  },
  {
   "cell_type": "code",
   "execution_count": 149,
   "id": "edf89a56",
   "metadata": {},
   "outputs": [],
   "source": [
    "predicted = Model.predict(start=len(train), end=len(train) + len(test)-1, exog=exo_test, type=\"Levels\")"
   ]
  },
  {
   "cell_type": "code",
   "execution_count": 150,
   "id": "40589aa7",
   "metadata": {},
   "outputs": [
    {
     "data": {
      "text/plain": [
       "2016-01-03    1018.393822\n",
       "2016-01-04    1018.610141\n",
       "2016-01-05    1016.764979\n",
       "2016-01-06    1015.583148\n",
       "2016-01-07    1016.799141\n",
       "                 ...     \n",
       "2016-12-28    1016.637712\n",
       "2016-12-29    1018.249733\n",
       "2016-12-30    1019.657861\n",
       "2016-12-31    1018.886202\n",
       "2017-01-01    1020.511354\n",
       "Freq: D, Name: predicted_mean, Length: 365, dtype: float64"
      ]
     },
     "execution_count": 150,
     "metadata": {},
     "output_type": "execute_result"
    }
   ],
   "source": [
    "predicted"
   ]
  },
  {
   "cell_type": "code",
   "execution_count": 151,
   "id": "fb9a67d1",
   "metadata": {},
   "outputs": [
    {
     "name": "stderr",
     "output_type": "stream",
     "text": [
      "No artists with labels found to put in legend.  Note that artists whose label start with an underscore are ignored when legend() is called with no argument.\n"
     ]
    },
    {
     "data": {
      "image/png": "[encoded data removed]",
      "text/plain": [
       "<Figure size 432x288 with 1 Axes>"
      ]
     },
     "metadata": {
      "needs_background": "light"
     },
     "output_type": "display_data"
    }
   ],
   "source": [
    "plt.plot(test, color=\"red\")\n",
    "plt.plot(predicted, color=\"blue\")\n",
    "plt.title(\"SARIMAX for Mean Pressure (Actual vs Predcited Values)\")\n",
    "plt.xlabel(\"Day\")\n",
    "plt.ylabel(\"Mean Pressure\")\n",
    "plt.legend()\n",
    "plt.show()"
   ]
  },
  {
   "cell_type": "code",
   "execution_count": 152,
   "id": "8176ec78",
   "metadata": {},
   "outputs": [],
   "source": [
    "import math\n",
    "from sklearn.metrics import mean_squared_error "
   ]
  },
  {
   "cell_type": "code",
   "execution_count": 154,
   "id": "271b5ebc",
   "metadata": {},
   "outputs": [],
   "source": [
    "RMSE = math.sqrt(mean_squared_error(test, predicted)) "
   ]
  },
  {
   "cell_type": "code",
   "execution_count": 155,
   "id": "187b8af7",
   "metadata": {},
   "outputs": [
    {
     "data": {
      "text/plain": [
       "360.13204607731086"
      ]
     },
     "execution_count": 155,
     "metadata": {},
     "output_type": "execute_result"
    }
   ],
   "source": [
    "RMSE"
   ]
  },
  {
   "cell_type": "code",
   "execution_count": null,
   "id": "26d38169",
   "metadata": {},
   "outputs": [],
   "source": []
  }
 ],
 "metadata": {
  "kernelspec": {
   "display_name": "Python 3 (ipykernel)",
   "language": "python",
   "name": "python3"
  },
  "language_info": {
   "codemirror_mode": {
    "name": "ipython",
    "version": 3
   },
   "file_extension": ".py",
   "mimetype": "text/x-python",
   "name": "python",
   "nbconvert_exporter": "python",
   "pygments_lexer": "ipython3",
   "version": "3.9.12"
  }
 },
 "nbformat": 4,
 "nbformat_minor": 5
}
